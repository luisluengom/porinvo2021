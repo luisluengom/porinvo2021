{
 "cells": [
  {
   "cell_type": "markdown",
   "metadata": {},
   "source": [
    "# Descarga de históricos de precios\n",
    "\n",
    "<img style=\"float: right; margin: 0px 0px 15px 15px;\" src=\"https://upload.wikimedia.org/wikipedia/commons/7/7d/Copper_Price_History_USD.png\" width=\"600px\" height=\"400px\" />\n",
    "\n",
    "> Entonces, en la clase anterior vimos que podemos caracterizar la distribución de rendimientos de un activo mediante una medida de tendencia central (media: rendimiento esperado) y una medida de dispersión (desviación estándar: volatilidad). \n",
    "\n",
    "> Estas medidas se pueden calcular cuando tenemos escenarios probables de la economía y conocemos sus probabilidades de ocurrencia. Ahora, si no conocemos dichos escenarios, ¿qué podemos hacer?"
   ]
  },
  {
   "cell_type": "markdown",
   "metadata": {},
   "source": [
    "*Objetivos:*\n",
    "- Aprender a importar datos desde archivos separados por comas y de excel (extensión `.csv` y `.xlsx`).\n",
    "- Descargar el paquete `pandas-datareader`.\n",
    "- Aprender a descargar datos desde fuentes remotas.\n",
    "\n",
    "**Referencias:**\n",
    "- http://pandas.pydata.org/\n",
    "- https://pandas-datareader.readthedocs.io/en/latest/"
   ]
  },
  {
   "cell_type": "markdown",
   "metadata": {},
   "source": [
    "## 1. Importar datos desde archivos locales\n",
    "\n",
    "<img style=\"float: left; margin: 0px 0px 15px 15px;\" src=\"https://upload.wikimedia.org/wikipedia/commons/8/86/Microsoft_Excel_2013_logo.svg\" width=\"300px\" height=\"125px\" />\n",
    "\n",
    "<img style=\"float: right; margin: 0px 0px 15px 15px;\" src=\"https://upload.wikimedia.org/wikipedia/commons/0/0a/Python.svg\" width=\"300px\" height=\"125px\" />"
   ]
  },
  {
   "cell_type": "markdown",
   "metadata": {},
   "source": [
    "### 1.1. ¿Porqué?\n",
    "\n",
    "- Muchas veces tenemos bases de datos proporcionadas como archivos locales.\n",
    "- Para poder analizar, procesar y tomar decisiones con estos datos, es necesario importarlos a python.\n",
    "- Ejemplos de archivos donde comúnmente se guardan bases de datos son: \n",
    " - `.xls` o `.xlsx`\n",
    " -  `.csv`\n",
    "- Excel es ampliamente usado en distintos campos de aplicación en todo el mundo.\n",
    "- Nos guste o no, esto también aplica a ciencia de datos (ingeniería financiera).\n",
    "- Muchos de ustedes en su futuro académico y profesional tendrán que trabajar con estas hojas de cálculo, pero no siempre querrán trabajar directamente con ellas si tienen que hacer un análisis un poco más avanzado de los datos.\n",
    "- Por eso en Python se han implementado herramientas para leer, escribir y manipular este tipo de archivos.\n",
    "\n",
    "En esta clase veremos cómo podemos trabajar con Excel y Python de manera básica utilizando la librería *pandas*."
   ]
  },
  {
   "cell_type": "markdown",
   "metadata": {},
   "source": [
    "### 1.2. Reglas básicas para antes de leer hojas de cálculo\n",
    "\n",
    "Antes de comenzar a leer una hoja de cálculo en Python (o cualquier otro programa), debemos considerar el ajustar nuestro archivo para cumplir ciertos principios, como:\n",
    "\n",
    "- La primer fila de la hoja de cálculo se reserva para los títulos, mientras que la primer columna se usa para identificar la unidad de muestreo o indización de los datos (tiempo, fecha, eventos...)\n",
    "- Evitar nombres, valores o campos con espacios en blanco. De otra manera, cada palabra se interpreta como variable separada y resultan errores relacionados con el número de elementos por línea.\n",
    "- Los nombres cortos se prefieren sobre nombre largos.\n",
    "- Evite símbolos como ?, $, %, ^, &, *, (,),-,#, ?, ,,<,>, /, |, \\, [ ,] , {, y }.\n",
    "- Borre cualquier tipo de comentario que haya hecho en su archivo para evitar columnas extras.\n",
    "- Asegúrese de que cualquier valor inexistente esté indicado como NA.\n",
    "\n",
    "Si se hizo algún cambio, estar seguro de guardarlo. \n",
    "\n",
    "Si estás trabajando con Microsoft Excel, verás que hay muchas opciones para guardar archivos, a parte de las extensiones por defecto .xls or .xlsx. Para esto ir a “Save As” y seleccionar una de las extensiones listadas en “Save as Type”. \n",
    "\n",
    "La extensión más común es .csv (archivos de texto separados por comas)."
   ]
  },
  {
   "cell_type": "markdown",
   "metadata": {},
   "source": [
    "**Actividad.** Descargar precios de acciones de Apple (AAPL) de Yahoo Finance, con una ventana de tiempo desde el 01-01-2015 a hoy y frecuencia diaria.\n",
    "\n",
    "- Ir a https://finance.yahoo.com/.\n",
    "- Buscar cada una de las compañías solicitadas.\n",
    "- Dar click en la pestaña *'Historical Data'*.\n",
    "- Cambiar las fechas en *'Time Period'*, click en *'Apply'* y, finalmente, click en *'Download Data'*.\n",
    "- **¡POR FAVOR! GUARDAR ESTOS ARCHIVOS EN UNA CARPETA LLAMADA precios EN EL MISMO DIRECTORIO DONDE TIENEN ESTE ARCHIVO**."
   ]
  },
  {
   "cell_type": "markdown",
   "metadata": {},
   "source": [
    "### 1.3. Carguemos archivos .csv como ventanas de datos de pandas\n",
    "\n",
    "Ahora podemos comenzar a importar nuestros archivos.\n",
    "\n",
    "Una de las formas más comunes de trabajar con análisis de datos es en pandas. Esto es debido a que pandas está construido sobre NumPy y provee estructuras de datos y herramientas de análisis fáciles de usar."
   ]
  },
  {
   "cell_type": "code",
   "execution_count": 1,
   "metadata": {},
   "outputs": [],
   "source": [
    "# Importamos pandas\n",
    "import pandas as pd"
   ]
  },
  {
   "cell_type": "markdown",
   "metadata": {},
   "source": [
    "Para leer archivos `.csv`, utilizaremos la función `read_csv` de pandas:"
   ]
  },
  {
   "cell_type": "code",
   "execution_count": 8,
   "metadata": {},
   "outputs": [],
   "source": [
    "# Cargamos hoja de calculo en un dataframe\n",
    "nflx = pd.read_csv(\"precios/NFLX.csv\")"
   ]
  },
  {
   "cell_type": "code",
   "execution_count": 9,
   "metadata": {
    "scrolled": true
   },
   "outputs": [
    {
     "data": {
      "text/html": [
       "<div>\n",
       "<style scoped>\n",
       "    .dataframe tbody tr th:only-of-type {\n",
       "        vertical-align: middle;\n",
       "    }\n",
       "\n",
       "    .dataframe tbody tr th {\n",
       "        vertical-align: top;\n",
       "    }\n",
       "\n",
       "    .dataframe thead th {\n",
       "        text-align: right;\n",
       "    }\n",
       "</style>\n",
       "<table border=\"1\" class=\"dataframe\">\n",
       "  <thead>\n",
       "    <tr style=\"text-align: right;\">\n",
       "      <th></th>\n",
       "      <th>Date</th>\n",
       "      <th>Open</th>\n",
       "      <th>High</th>\n",
       "      <th>Low</th>\n",
       "      <th>Close</th>\n",
       "      <th>Adj Close</th>\n",
       "      <th>Volume</th>\n",
       "    </tr>\n",
       "  </thead>\n",
       "  <tbody>\n",
       "    <tr>\n",
       "      <th>0</th>\n",
       "      <td>2016-08-25</td>\n",
       "      <td>96.379997</td>\n",
       "      <td>98.250000</td>\n",
       "      <td>96.040001</td>\n",
       "      <td>97.320000</td>\n",
       "      <td>97.320000</td>\n",
       "      <td>10823100</td>\n",
       "    </tr>\n",
       "    <tr>\n",
       "      <th>1</th>\n",
       "      <td>2016-08-26</td>\n",
       "      <td>97.330002</td>\n",
       "      <td>97.949997</td>\n",
       "      <td>96.570000</td>\n",
       "      <td>97.580002</td>\n",
       "      <td>97.580002</td>\n",
       "      <td>6617600</td>\n",
       "    </tr>\n",
       "    <tr>\n",
       "      <th>2</th>\n",
       "      <td>2016-08-29</td>\n",
       "      <td>96.970001</td>\n",
       "      <td>98.449997</td>\n",
       "      <td>96.570000</td>\n",
       "      <td>97.300003</td>\n",
       "      <td>97.300003</td>\n",
       "      <td>8008400</td>\n",
       "    </tr>\n",
       "    <tr>\n",
       "      <th>3</th>\n",
       "      <td>2016-08-30</td>\n",
       "      <td>97.839996</td>\n",
       "      <td>98.849998</td>\n",
       "      <td>97.139999</td>\n",
       "      <td>97.449997</td>\n",
       "      <td>97.449997</td>\n",
       "      <td>6093500</td>\n",
       "    </tr>\n",
       "    <tr>\n",
       "      <th>4</th>\n",
       "      <td>2016-08-31</td>\n",
       "      <td>97.480003</td>\n",
       "      <td>97.879997</td>\n",
       "      <td>96.760002</td>\n",
       "      <td>97.449997</td>\n",
       "      <td>97.449997</td>\n",
       "      <td>4690600</td>\n",
       "    </tr>\n",
       "    <tr>\n",
       "      <th>...</th>\n",
       "      <td>...</td>\n",
       "      <td>...</td>\n",
       "      <td>...</td>\n",
       "      <td>...</td>\n",
       "      <td>...</td>\n",
       "      <td>...</td>\n",
       "      <td>...</td>\n",
       "    </tr>\n",
       "    <tr>\n",
       "      <th>1253</th>\n",
       "      <td>2021-08-18</td>\n",
       "      <td>520.000000</td>\n",
       "      <td>526.380005</td>\n",
       "      <td>518.650024</td>\n",
       "      <td>521.869995</td>\n",
       "      <td>521.869995</td>\n",
       "      <td>2582000</td>\n",
       "    </tr>\n",
       "    <tr>\n",
       "      <th>1254</th>\n",
       "      <td>2021-08-19</td>\n",
       "      <td>522.739990</td>\n",
       "      <td>548.390015</td>\n",
       "      <td>521.869995</td>\n",
       "      <td>543.710022</td>\n",
       "      <td>543.710022</td>\n",
       "      <td>7497300</td>\n",
       "    </tr>\n",
       "    <tr>\n",
       "      <th>1255</th>\n",
       "      <td>2021-08-20</td>\n",
       "      <td>545.090027</td>\n",
       "      <td>551.390015</td>\n",
       "      <td>539.099976</td>\n",
       "      <td>546.880005</td>\n",
       "      <td>546.880005</td>\n",
       "      <td>3774300</td>\n",
       "    </tr>\n",
       "    <tr>\n",
       "      <th>1256</th>\n",
       "      <td>2021-08-23</td>\n",
       "      <td>545.979980</td>\n",
       "      <td>555.549988</td>\n",
       "      <td>543.739990</td>\n",
       "      <td>553.330017</td>\n",
       "      <td>553.330017</td>\n",
       "      <td>2602000</td>\n",
       "    </tr>\n",
       "    <tr>\n",
       "      <th>1257</th>\n",
       "      <td>2021-08-24</td>\n",
       "      <td>551.479980</td>\n",
       "      <td>555.309998</td>\n",
       "      <td>549.270020</td>\n",
       "      <td>553.409973</td>\n",
       "      <td>553.409973</td>\n",
       "      <td>2109500</td>\n",
       "    </tr>\n",
       "  </tbody>\n",
       "</table>\n",
       "<p>1258 rows × 7 columns</p>\n",
       "</div>"
      ],
      "text/plain": [
       "            Date        Open        High         Low       Close   Adj Close  \\\n",
       "0     2016-08-25   96.379997   98.250000   96.040001   97.320000   97.320000   \n",
       "1     2016-08-26   97.330002   97.949997   96.570000   97.580002   97.580002   \n",
       "2     2016-08-29   96.970001   98.449997   96.570000   97.300003   97.300003   \n",
       "3     2016-08-30   97.839996   98.849998   97.139999   97.449997   97.449997   \n",
       "4     2016-08-31   97.480003   97.879997   96.760002   97.449997   97.449997   \n",
       "...          ...         ...         ...         ...         ...         ...   \n",
       "1253  2021-08-18  520.000000  526.380005  518.650024  521.869995  521.869995   \n",
       "1254  2021-08-19  522.739990  548.390015  521.869995  543.710022  543.710022   \n",
       "1255  2021-08-20  545.090027  551.390015  539.099976  546.880005  546.880005   \n",
       "1256  2021-08-23  545.979980  555.549988  543.739990  553.330017  553.330017   \n",
       "1257  2021-08-24  551.479980  555.309998  549.270020  553.409973  553.409973   \n",
       "\n",
       "        Volume  \n",
       "0     10823100  \n",
       "1      6617600  \n",
       "2      8008400  \n",
       "3      6093500  \n",
       "4      4690600  \n",
       "...        ...  \n",
       "1253   2582000  \n",
       "1254   7497300  \n",
       "1255   3774300  \n",
       "1256   2602000  \n",
       "1257   2109500  \n",
       "\n",
       "[1258 rows x 7 columns]"
      ]
     },
     "execution_count": 9,
     "metadata": {},
     "output_type": "execute_result"
    }
   ],
   "source": [
    "nflx"
   ]
  },
  {
   "cell_type": "markdown",
   "metadata": {},
   "source": [
    "#### Anotación #1\n",
    "- Quisieramos indizar por fecha."
   ]
  },
  {
   "cell_type": "code",
   "execution_count": 10,
   "metadata": {},
   "outputs": [],
   "source": [
    "# Cargamos hoja de calculo en un dataframe\n",
    "nflx.set_index(\"Date\", inplace=True)"
   ]
  },
  {
   "cell_type": "code",
   "execution_count": 11,
   "metadata": {},
   "outputs": [
    {
     "data": {
      "text/html": [
       "<div>\n",
       "<style scoped>\n",
       "    .dataframe tbody tr th:only-of-type {\n",
       "        vertical-align: middle;\n",
       "    }\n",
       "\n",
       "    .dataframe tbody tr th {\n",
       "        vertical-align: top;\n",
       "    }\n",
       "\n",
       "    .dataframe thead th {\n",
       "        text-align: right;\n",
       "    }\n",
       "</style>\n",
       "<table border=\"1\" class=\"dataframe\">\n",
       "  <thead>\n",
       "    <tr style=\"text-align: right;\">\n",
       "      <th></th>\n",
       "      <th>Open</th>\n",
       "      <th>High</th>\n",
       "      <th>Low</th>\n",
       "      <th>Close</th>\n",
       "      <th>Adj Close</th>\n",
       "      <th>Volume</th>\n",
       "    </tr>\n",
       "    <tr>\n",
       "      <th>Date</th>\n",
       "      <th></th>\n",
       "      <th></th>\n",
       "      <th></th>\n",
       "      <th></th>\n",
       "      <th></th>\n",
       "      <th></th>\n",
       "    </tr>\n",
       "  </thead>\n",
       "  <tbody>\n",
       "    <tr>\n",
       "      <th>2016-08-25</th>\n",
       "      <td>96.379997</td>\n",
       "      <td>98.250000</td>\n",
       "      <td>96.040001</td>\n",
       "      <td>97.320000</td>\n",
       "      <td>97.320000</td>\n",
       "      <td>10823100</td>\n",
       "    </tr>\n",
       "    <tr>\n",
       "      <th>2016-08-26</th>\n",
       "      <td>97.330002</td>\n",
       "      <td>97.949997</td>\n",
       "      <td>96.570000</td>\n",
       "      <td>97.580002</td>\n",
       "      <td>97.580002</td>\n",
       "      <td>6617600</td>\n",
       "    </tr>\n",
       "    <tr>\n",
       "      <th>2016-08-29</th>\n",
       "      <td>96.970001</td>\n",
       "      <td>98.449997</td>\n",
       "      <td>96.570000</td>\n",
       "      <td>97.300003</td>\n",
       "      <td>97.300003</td>\n",
       "      <td>8008400</td>\n",
       "    </tr>\n",
       "    <tr>\n",
       "      <th>2016-08-30</th>\n",
       "      <td>97.839996</td>\n",
       "      <td>98.849998</td>\n",
       "      <td>97.139999</td>\n",
       "      <td>97.449997</td>\n",
       "      <td>97.449997</td>\n",
       "      <td>6093500</td>\n",
       "    </tr>\n",
       "    <tr>\n",
       "      <th>2016-08-31</th>\n",
       "      <td>97.480003</td>\n",
       "      <td>97.879997</td>\n",
       "      <td>96.760002</td>\n",
       "      <td>97.449997</td>\n",
       "      <td>97.449997</td>\n",
       "      <td>4690600</td>\n",
       "    </tr>\n",
       "    <tr>\n",
       "      <th>...</th>\n",
       "      <td>...</td>\n",
       "      <td>...</td>\n",
       "      <td>...</td>\n",
       "      <td>...</td>\n",
       "      <td>...</td>\n",
       "      <td>...</td>\n",
       "    </tr>\n",
       "    <tr>\n",
       "      <th>2021-08-18</th>\n",
       "      <td>520.000000</td>\n",
       "      <td>526.380005</td>\n",
       "      <td>518.650024</td>\n",
       "      <td>521.869995</td>\n",
       "      <td>521.869995</td>\n",
       "      <td>2582000</td>\n",
       "    </tr>\n",
       "    <tr>\n",
       "      <th>2021-08-19</th>\n",
       "      <td>522.739990</td>\n",
       "      <td>548.390015</td>\n",
       "      <td>521.869995</td>\n",
       "      <td>543.710022</td>\n",
       "      <td>543.710022</td>\n",
       "      <td>7497300</td>\n",
       "    </tr>\n",
       "    <tr>\n",
       "      <th>2021-08-20</th>\n",
       "      <td>545.090027</td>\n",
       "      <td>551.390015</td>\n",
       "      <td>539.099976</td>\n",
       "      <td>546.880005</td>\n",
       "      <td>546.880005</td>\n",
       "      <td>3774300</td>\n",
       "    </tr>\n",
       "    <tr>\n",
       "      <th>2021-08-23</th>\n",
       "      <td>545.979980</td>\n",
       "      <td>555.549988</td>\n",
       "      <td>543.739990</td>\n",
       "      <td>553.330017</td>\n",
       "      <td>553.330017</td>\n",
       "      <td>2602000</td>\n",
       "    </tr>\n",
       "    <tr>\n",
       "      <th>2021-08-24</th>\n",
       "      <td>551.479980</td>\n",
       "      <td>555.309998</td>\n",
       "      <td>549.270020</td>\n",
       "      <td>553.409973</td>\n",
       "      <td>553.409973</td>\n",
       "      <td>2109500</td>\n",
       "    </tr>\n",
       "  </tbody>\n",
       "</table>\n",
       "<p>1258 rows × 6 columns</p>\n",
       "</div>"
      ],
      "text/plain": [
       "                  Open        High         Low       Close   Adj Close  \\\n",
       "Date                                                                     \n",
       "2016-08-25   96.379997   98.250000   96.040001   97.320000   97.320000   \n",
       "2016-08-26   97.330002   97.949997   96.570000   97.580002   97.580002   \n",
       "2016-08-29   96.970001   98.449997   96.570000   97.300003   97.300003   \n",
       "2016-08-30   97.839996   98.849998   97.139999   97.449997   97.449997   \n",
       "2016-08-31   97.480003   97.879997   96.760002   97.449997   97.449997   \n",
       "...                ...         ...         ...         ...         ...   \n",
       "2021-08-18  520.000000  526.380005  518.650024  521.869995  521.869995   \n",
       "2021-08-19  522.739990  548.390015  521.869995  543.710022  543.710022   \n",
       "2021-08-20  545.090027  551.390015  539.099976  546.880005  546.880005   \n",
       "2021-08-23  545.979980  555.549988  543.739990  553.330017  553.330017   \n",
       "2021-08-24  551.479980  555.309998  549.270020  553.409973  553.409973   \n",
       "\n",
       "              Volume  \n",
       "Date                  \n",
       "2016-08-25  10823100  \n",
       "2016-08-26   6617600  \n",
       "2016-08-29   8008400  \n",
       "2016-08-30   6093500  \n",
       "2016-08-31   4690600  \n",
       "...              ...  \n",
       "2021-08-18   2582000  \n",
       "2021-08-19   7497300  \n",
       "2021-08-20   3774300  \n",
       "2021-08-23   2602000  \n",
       "2021-08-24   2109500  \n",
       "\n",
       "[1258 rows x 6 columns]"
      ]
     },
     "execution_count": 11,
     "metadata": {},
     "output_type": "execute_result"
    }
   ],
   "source": [
    "nflx"
   ]
  },
  {
   "cell_type": "code",
   "execution_count": 14,
   "metadata": {},
   "outputs": [
    {
     "data": {
      "text/plain": [
       "<matplotlib.axes._subplots.AxesSubplot at 0x7f08a4e7e1d0>"
      ]
     },
     "execution_count": 14,
     "metadata": {},
     "output_type": "execute_result"
    },
    {
     "data": {
      "image/png": "[encoded data removed]",
      "text/plain": [
       "<Figure size 720x504 with 1 Axes>"
      ]
     },
     "metadata": {
      "needs_background": "light"
     },
     "output_type": "display_data"
    }
   ],
   "source": [
    "# Graficar precios de cierre y precios de cierre ajustados\n",
    "nflx[[\"Close\", \"Adj Close\"]].plot(figsize=(10, 7),\n",
    "                                  grid=True)"
   ]
  },
  {
   "cell_type": "markdown",
   "metadata": {},
   "source": [
    "#### Anotación #2\n",
    "- Para nuestra aplicación solo nos interesan los precios de cierre de las acciones (columna Adj Close)."
   ]
  },
  {
   "cell_type": "code",
   "execution_count": 15,
   "metadata": {},
   "outputs": [],
   "source": [
    "# Cargamos hoja de calculo en un dataframe\n",
    "nflx = pd.read_csv(\"precios/NFLX.csv\", \n",
    "                   index_col=\"Date\", \n",
    "                   usecols=[\"Date\", \"Adj Close\"])"
   ]
  },
  {
   "cell_type": "code",
   "execution_count": 16,
   "metadata": {},
   "outputs": [
    {
     "data": {
      "text/html": [
       "<div>\n",
       "<style scoped>\n",
       "    .dataframe tbody tr th:only-of-type {\n",
       "        vertical-align: middle;\n",
       "    }\n",
       "\n",
       "    .dataframe tbody tr th {\n",
       "        vertical-align: top;\n",
       "    }\n",
       "\n",
       "    .dataframe thead th {\n",
       "        text-align: right;\n",
       "    }\n",
       "</style>\n",
       "<table border=\"1\" class=\"dataframe\">\n",
       "  <thead>\n",
       "    <tr style=\"text-align: right;\">\n",
       "      <th></th>\n",
       "      <th>Adj Close</th>\n",
       "    </tr>\n",
       "    <tr>\n",
       "      <th>Date</th>\n",
       "      <th></th>\n",
       "    </tr>\n",
       "  </thead>\n",
       "  <tbody>\n",
       "    <tr>\n",
       "      <th>2016-08-25</th>\n",
       "      <td>97.320000</td>\n",
       "    </tr>\n",
       "    <tr>\n",
       "      <th>2016-08-26</th>\n",
       "      <td>97.580002</td>\n",
       "    </tr>\n",
       "    <tr>\n",
       "      <th>2016-08-29</th>\n",
       "      <td>97.300003</td>\n",
       "    </tr>\n",
       "    <tr>\n",
       "      <th>2016-08-30</th>\n",
       "      <td>97.449997</td>\n",
       "    </tr>\n",
       "    <tr>\n",
       "      <th>2016-08-31</th>\n",
       "      <td>97.449997</td>\n",
       "    </tr>\n",
       "    <tr>\n",
       "      <th>...</th>\n",
       "      <td>...</td>\n",
       "    </tr>\n",
       "    <tr>\n",
       "      <th>2021-08-18</th>\n",
       "      <td>521.869995</td>\n",
       "    </tr>\n",
       "    <tr>\n",
       "      <th>2021-08-19</th>\n",
       "      <td>543.710022</td>\n",
       "    </tr>\n",
       "    <tr>\n",
       "      <th>2021-08-20</th>\n",
       "      <td>546.880005</td>\n",
       "    </tr>\n",
       "    <tr>\n",
       "      <th>2021-08-23</th>\n",
       "      <td>553.330017</td>\n",
       "    </tr>\n",
       "    <tr>\n",
       "      <th>2021-08-24</th>\n",
       "      <td>553.409973</td>\n",
       "    </tr>\n",
       "  </tbody>\n",
       "</table>\n",
       "<p>1258 rows × 1 columns</p>\n",
       "</div>"
      ],
      "text/plain": [
       "             Adj Close\n",
       "Date                  \n",
       "2016-08-25   97.320000\n",
       "2016-08-26   97.580002\n",
       "2016-08-29   97.300003\n",
       "2016-08-30   97.449997\n",
       "2016-08-31   97.449997\n",
       "...                ...\n",
       "2021-08-18  521.869995\n",
       "2021-08-19  543.710022\n",
       "2021-08-20  546.880005\n",
       "2021-08-23  553.330017\n",
       "2021-08-24  553.409973\n",
       "\n",
       "[1258 rows x 1 columns]"
      ]
     },
     "execution_count": 16,
     "metadata": {},
     "output_type": "execute_result"
    }
   ],
   "source": [
    "nflx"
   ]
  },
  {
   "cell_type": "markdown",
   "metadata": {},
   "source": [
    "**Vamos ahora a importar el archivo que descargamos de factset**"
   ]
  },
  {
   "cell_type": "code",
   "execution_count": 17,
   "metadata": {},
   "outputs": [],
   "source": [
    "# Usamos la función read_excel de pandas\n",
    "pd.read_excel?"
   ]
  },
  {
   "cell_type": "code",
   "execution_count": 22,
   "metadata": {},
   "outputs": [],
   "source": [
    "# Lectura de datos\n",
    "closes = pd.read_excel(\"precios/PriceHistory.xlsx\",\n",
    "                       sheet_name=\"Price History\",\n",
    "                       header=2,\n",
    "                       index_col=\"Date\")"
   ]
  },
  {
   "cell_type": "code",
   "execution_count": 23,
   "metadata": {},
   "outputs": [
    {
     "data": {
      "text/html": [
       "<div>\n",
       "<style scoped>\n",
       "    .dataframe tbody tr th:only-of-type {\n",
       "        vertical-align: middle;\n",
       "    }\n",
       "\n",
       "    .dataframe tbody tr th {\n",
       "        vertical-align: top;\n",
       "    }\n",
       "\n",
       "    .dataframe thead th {\n",
       "        text-align: right;\n",
       "    }\n",
       "</style>\n",
       "<table border=\"1\" class=\"dataframe\">\n",
       "  <thead>\n",
       "    <tr style=\"text-align: right;\">\n",
       "      <th></th>\n",
       "      <th>Composite</th>\n",
       "      <th>Alphabet Inc. Class C (GOOG-US)</th>\n",
       "      <th>Vanguard S&amp;P 500 ETF (VOO-US)</th>\n",
       "      <th>Tesla Inc (TSLA-US)</th>\n",
       "      <th>Netflix, Inc. (NFLX-US)</th>\n",
       "      <th>Apple Inc. (AAPL-US)</th>\n",
       "    </tr>\n",
       "    <tr>\n",
       "      <th>Date</th>\n",
       "      <th></th>\n",
       "      <th></th>\n",
       "      <th></th>\n",
       "      <th></th>\n",
       "      <th></th>\n",
       "      <th></th>\n",
       "    </tr>\n",
       "  </thead>\n",
       "  <tbody>\n",
       "    <tr>\n",
       "      <th>2021-08-25</th>\n",
       "      <td>514.054570</td>\n",
       "      <td>2859.00</td>\n",
       "      <td>412.63</td>\n",
       "      <td>711.200000</td>\n",
       "      <td>547.58</td>\n",
       "      <td>148.3600</td>\n",
       "    </tr>\n",
       "    <tr>\n",
       "      <th>2021-08-24</th>\n",
       "      <td>516.004400</td>\n",
       "      <td>2847.97</td>\n",
       "      <td>411.87</td>\n",
       "      <td>708.490000</td>\n",
       "      <td>553.41</td>\n",
       "      <td>149.6200</td>\n",
       "    </tr>\n",
       "    <tr>\n",
       "      <th>2021-08-23</th>\n",
       "      <td>514.915950</td>\n",
       "      <td>2821.99</td>\n",
       "      <td>411.22</td>\n",
       "      <td>706.300000</td>\n",
       "      <td>553.33</td>\n",
       "      <td>149.7100</td>\n",
       "    </tr>\n",
       "    <tr>\n",
       "      <th>2021-08-20</th>\n",
       "      <td>506.767120</td>\n",
       "      <td>2768.74</td>\n",
       "      <td>407.61</td>\n",
       "      <td>680.260000</td>\n",
       "      <td>546.88</td>\n",
       "      <td>148.1900</td>\n",
       "    </tr>\n",
       "    <tr>\n",
       "      <th>2021-08-19</th>\n",
       "      <td>501.733760</td>\n",
       "      <td>2738.27</td>\n",
       "      <td>404.41</td>\n",
       "      <td>673.470000</td>\n",
       "      <td>543.71</td>\n",
       "      <td>146.7000</td>\n",
       "    </tr>\n",
       "    <tr>\n",
       "      <th>...</th>\n",
       "      <td>...</td>\n",
       "      <td>...</td>\n",
       "      <td>...</td>\n",
       "      <td>...</td>\n",
       "      <td>...</td>\n",
       "      <td>...</td>\n",
       "    </tr>\n",
       "    <tr>\n",
       "      <th>2016-08-31</th>\n",
       "      <td>99.015790</td>\n",
       "      <td>767.05</td>\n",
       "      <td>199.52</td>\n",
       "      <td>42.402004</td>\n",
       "      <td>97.45</td>\n",
       "      <td>26.5250</td>\n",
       "    </tr>\n",
       "    <tr>\n",
       "      <th>2016-08-30</th>\n",
       "      <td>99.056274</td>\n",
       "      <td>769.09</td>\n",
       "      <td>200.01</td>\n",
       "      <td>42.268000</td>\n",
       "      <td>97.45</td>\n",
       "      <td>26.5000</td>\n",
       "    </tr>\n",
       "    <tr>\n",
       "      <th>2016-08-29</th>\n",
       "      <td>99.656820</td>\n",
       "      <td>772.15</td>\n",
       "      <td>200.39</td>\n",
       "      <td>43.040005</td>\n",
       "      <td>97.30</td>\n",
       "      <td>26.7050</td>\n",
       "    </tr>\n",
       "    <tr>\n",
       "      <th>2016-08-26</th>\n",
       "      <td>99.678140</td>\n",
       "      <td>769.54</td>\n",
       "      <td>199.38</td>\n",
       "      <td>43.998000</td>\n",
       "      <td>97.58</td>\n",
       "      <td>26.7350</td>\n",
       "    </tr>\n",
       "    <tr>\n",
       "      <th>2016-08-25</th>\n",
       "      <td>100.000000</td>\n",
       "      <td>769.41</td>\n",
       "      <td>199.76</td>\n",
       "      <td>44.192000</td>\n",
       "      <td>97.32</td>\n",
       "      <td>26.8925</td>\n",
       "    </tr>\n",
       "  </tbody>\n",
       "</table>\n",
       "<p>1259 rows × 6 columns</p>\n",
       "</div>"
      ],
      "text/plain": [
       "             Composite  Alphabet Inc. Class C (GOOG-US)  \\\n",
       "Date                                                      \n",
       "2021-08-25  514.054570                          2859.00   \n",
       "2021-08-24  516.004400                          2847.97   \n",
       "2021-08-23  514.915950                          2821.99   \n",
       "2021-08-20  506.767120                          2768.74   \n",
       "2021-08-19  501.733760                          2738.27   \n",
       "...                ...                              ...   \n",
       "2016-08-31   99.015790                           767.05   \n",
       "2016-08-30   99.056274                           769.09   \n",
       "2016-08-29   99.656820                           772.15   \n",
       "2016-08-26   99.678140                           769.54   \n",
       "2016-08-25  100.000000                           769.41   \n",
       "\n",
       "            Vanguard S&P 500 ETF (VOO-US)  Tesla Inc (TSLA-US)  \\\n",
       "Date                                                             \n",
       "2021-08-25                         412.63           711.200000   \n",
       "2021-08-24                         411.87           708.490000   \n",
       "2021-08-23                         411.22           706.300000   \n",
       "2021-08-20                         407.61           680.260000   \n",
       "2021-08-19                         404.41           673.470000   \n",
       "...                                   ...                  ...   \n",
       "2016-08-31                         199.52            42.402004   \n",
       "2016-08-30                         200.01            42.268000   \n",
       "2016-08-29                         200.39            43.040005   \n",
       "2016-08-26                         199.38            43.998000   \n",
       "2016-08-25                         199.76            44.192000   \n",
       "\n",
       "            Netflix, Inc. (NFLX-US)  Apple Inc. (AAPL-US)  \n",
       "Date                                                       \n",
       "2021-08-25                   547.58              148.3600  \n",
       "2021-08-24                   553.41              149.6200  \n",
       "2021-08-23                   553.33              149.7100  \n",
       "2021-08-20                   546.88              148.1900  \n",
       "2021-08-19                   543.71              146.7000  \n",
       "...                             ...                   ...  \n",
       "2016-08-31                    97.45               26.5250  \n",
       "2016-08-30                    97.45               26.5000  \n",
       "2016-08-29                    97.30               26.7050  \n",
       "2016-08-26                    97.58               26.7350  \n",
       "2016-08-25                    97.32               26.8925  \n",
       "\n",
       "[1259 rows x 6 columns]"
      ]
     },
     "execution_count": 23,
     "metadata": {},
     "output_type": "execute_result"
    }
   ],
   "source": [
    "closes"
   ]
  },
  {
   "cell_type": "code",
   "execution_count": 24,
   "metadata": {},
   "outputs": [
    {
     "data": {
      "text/plain": [
       "<matplotlib.axes._subplots.AxesSubplot at 0x7f08a52c9750>"
      ]
     },
     "execution_count": 24,
     "metadata": {},
     "output_type": "execute_result"
    },
    {
     "data": {
      "image/png": "[encoded data removed]",
      "text/plain": [
       "<Figure size 720x576 with 1 Axes>"
      ]
     },
     "metadata": {
      "needs_background": "light"
     },
     "output_type": "display_data"
    }
   ],
   "source": [
    "closes.plot(figsize=(10, 8))"
   ]
  },
  {
   "cell_type": "markdown",
   "metadata": {},
   "source": [
    "## 2. Descargar los datos remotamente\n",
    "Para esto utilizaremos el paquete *pandas_datareader*.\n",
    "\n",
    "**Nota**: Usualmente, las distribuciones de Python no cuentan, por defecto, con el paquete *pandas_datareader*. Por lo que será necesario instalarlo aparte:\n",
    "- buscar en inicio \"Anaconda prompt\" y ejecutarlo como administrador;\n",
    "- el siguiente comando instala el paquete en Anaconda: *conda install pandas-datareader*;\n",
    "- una vez finalice la instalación correr el comando: *conda list*, y buscar que sí se haya instalado pandas-datareader"
   ]
  },
  {
   "cell_type": "code",
   "execution_count": 25,
   "metadata": {
    "scrolled": true
   },
   "outputs": [],
   "source": [
    "# Importar el modulo data del paquete pandas_datareader. La comunidad lo importa con el nombre de web\n",
    "from pandas_datareader import data as web"
   ]
  },
  {
   "cell_type": "markdown",
   "metadata": {},
   "source": [
    "El módulo data del paquete pandas_datareader contiene la funcion `DataReader`:"
   ]
  },
  {
   "cell_type": "code",
   "execution_count": 30,
   "metadata": {},
   "outputs": [],
   "source": [
    "# Función DataReader\n",
    "web.DataReader?"
   ]
  },
  {
   "cell_type": "markdown",
   "metadata": {},
   "source": [
    "- A esta función le podemos especificar la fuente de los datos para que se use la api específica para la descarga de datos de cada fuente.\n",
    "- Fuentes:\n",
    " - Google Finance: su api ya no sirve.\n",
    " - Quandl: necesita registrarse para obtener un api key.\n",
    " - IEX: los datos tienen antiguedad máxima de 5 años y de equities estadounidenses.\n",
    " - Yahoo! Finance: su api ha tenido cambios significativos y ya no es posible usarla desde DataReader. Sin embargo permite obtener datos de distintas bolsas (incluida la mexicana), por eso le haremos la luchita."
   ]
  },
  {
   "cell_type": "code",
   "execution_count": 27,
   "metadata": {},
   "outputs": [],
   "source": [
    "# Ejemplo yahoo\n",
    "closes2 = web.DataReader(name=[\"NFLX\", \"AAPL\", \"TSLA\", \"VOO\"],\n",
    "                         data_source=\"yahoo\",\n",
    "                         start=\"2016-08-25\",\n",
    "                         end=\"2021-08-25\")"
   ]
  },
  {
   "cell_type": "code",
   "execution_count": 29,
   "metadata": {},
   "outputs": [
    {
     "data": {
      "text/html": [
       "<div>\n",
       "<style scoped>\n",
       "    .dataframe tbody tr th:only-of-type {\n",
       "        vertical-align: middle;\n",
       "    }\n",
       "\n",
       "    .dataframe tbody tr th {\n",
       "        vertical-align: top;\n",
       "    }\n",
       "\n",
       "    .dataframe thead th {\n",
       "        text-align: right;\n",
       "    }\n",
       "</style>\n",
       "<table border=\"1\" class=\"dataframe\">\n",
       "  <thead>\n",
       "    <tr style=\"text-align: right;\">\n",
       "      <th>Symbols</th>\n",
       "      <th>NFLX</th>\n",
       "      <th>AAPL</th>\n",
       "      <th>TSLA</th>\n",
       "      <th>VOO</th>\n",
       "    </tr>\n",
       "    <tr>\n",
       "      <th>Date</th>\n",
       "      <th></th>\n",
       "      <th></th>\n",
       "      <th></th>\n",
       "      <th></th>\n",
       "    </tr>\n",
       "  </thead>\n",
       "  <tbody>\n",
       "    <tr>\n",
       "      <th>2016-08-25</th>\n",
       "      <td>97.320000</td>\n",
       "      <td>25.220877</td>\n",
       "      <td>44.192001</td>\n",
       "      <td>181.767075</td>\n",
       "    </tr>\n",
       "    <tr>\n",
       "      <th>2016-08-26</th>\n",
       "      <td>97.580002</td>\n",
       "      <td>25.073166</td>\n",
       "      <td>43.998001</td>\n",
       "      <td>181.421326</td>\n",
       "    </tr>\n",
       "    <tr>\n",
       "      <th>2016-08-29</th>\n",
       "      <td>97.300003</td>\n",
       "      <td>25.045031</td>\n",
       "      <td>43.040001</td>\n",
       "      <td>182.340317</td>\n",
       "    </tr>\n",
       "    <tr>\n",
       "      <th>2016-08-30</th>\n",
       "      <td>97.449997</td>\n",
       "      <td>24.852774</td>\n",
       "      <td>42.268002</td>\n",
       "      <td>181.994522</td>\n",
       "    </tr>\n",
       "    <tr>\n",
       "      <th>2016-08-31</th>\n",
       "      <td>97.449997</td>\n",
       "      <td>24.876219</td>\n",
       "      <td>42.402000</td>\n",
       "      <td>181.548660</td>\n",
       "    </tr>\n",
       "    <tr>\n",
       "      <th>...</th>\n",
       "      <td>...</td>\n",
       "      <td>...</td>\n",
       "      <td>...</td>\n",
       "      <td>...</td>\n",
       "    </tr>\n",
       "    <tr>\n",
       "      <th>2021-08-19</th>\n",
       "      <td>543.710022</td>\n",
       "      <td>146.699997</td>\n",
       "      <td>673.469971</td>\n",
       "      <td>404.410004</td>\n",
       "    </tr>\n",
       "    <tr>\n",
       "      <th>2021-08-20</th>\n",
       "      <td>546.880005</td>\n",
       "      <td>148.190002</td>\n",
       "      <td>680.260010</td>\n",
       "      <td>407.609985</td>\n",
       "    </tr>\n",
       "    <tr>\n",
       "      <th>2021-08-23</th>\n",
       "      <td>553.330017</td>\n",
       "      <td>149.710007</td>\n",
       "      <td>706.299988</td>\n",
       "      <td>411.220001</td>\n",
       "    </tr>\n",
       "    <tr>\n",
       "      <th>2021-08-24</th>\n",
       "      <td>553.409973</td>\n",
       "      <td>149.619995</td>\n",
       "      <td>708.489990</td>\n",
       "      <td>411.869995</td>\n",
       "    </tr>\n",
       "    <tr>\n",
       "      <th>2021-08-25</th>\n",
       "      <td>547.580017</td>\n",
       "      <td>148.360001</td>\n",
       "      <td>711.200012</td>\n",
       "      <td>412.630005</td>\n",
       "    </tr>\n",
       "  </tbody>\n",
       "</table>\n",
       "<p>1259 rows × 4 columns</p>\n",
       "</div>"
      ],
      "text/plain": [
       "Symbols           NFLX        AAPL        TSLA         VOO\n",
       "Date                                                      \n",
       "2016-08-25   97.320000   25.220877   44.192001  181.767075\n",
       "2016-08-26   97.580002   25.073166   43.998001  181.421326\n",
       "2016-08-29   97.300003   25.045031   43.040001  182.340317\n",
       "2016-08-30   97.449997   24.852774   42.268002  181.994522\n",
       "2016-08-31   97.449997   24.876219   42.402000  181.548660\n",
       "...                ...         ...         ...         ...\n",
       "2021-08-19  543.710022  146.699997  673.469971  404.410004\n",
       "2021-08-20  546.880005  148.190002  680.260010  407.609985\n",
       "2021-08-23  553.330017  149.710007  706.299988  411.220001\n",
       "2021-08-24  553.409973  149.619995  708.489990  411.869995\n",
       "2021-08-25  547.580017  148.360001  711.200012  412.630005\n",
       "\n",
       "[1259 rows x 4 columns]"
      ]
     },
     "execution_count": 29,
     "metadata": {},
     "output_type": "execute_result"
    }
   ],
   "source": [
    "# Precios ajustados en el cierre\n",
    "closes2[\"Adj Close\"]"
   ]
  },
  {
   "cell_type": "code",
   "execution_count": null,
   "metadata": {},
   "outputs": [],
   "source": []
  },
  {
   "cell_type": "code",
   "execution_count": 31,
   "metadata": {},
   "outputs": [],
   "source": [
    "# Función para descargar precios de cierre ajustados:\n",
    "def get_adj_closes(tickers, start_date=None, end_date=None):\n",
    "    # Fecha inicio por defecto (start_date='2010-01-01') y fecha fin por defecto (end_date=today)\n",
    "    # Descargamos DataFrame con todos los datos\n",
    "    closes = web.DataReader(name=tickers, data_source='yahoo', start=start_date, end=end_date)\n",
    "    # Solo necesitamos los precios ajustados en el cierre\n",
    "    closes = closes['Adj Close']\n",
    "    # Se ordenan los índices de manera ascendente\n",
    "    closes.sort_index(inplace=True)\n",
    "    return closes"
   ]
  },
  {
   "cell_type": "markdown",
   "metadata": {},
   "source": [
    "**Nota**: Para descargar datos de la bolsa mexicana de valores (BMV), el ticker debe tener la extensión MX. \n",
    "Por ejemplo: *MEXCHEM.MX*, *LABB.MX*, *GFINBURO.MX* y *GFNORTEO.MX*."
   ]
  },
  {
   "cell_type": "code",
   "execution_count": 33,
   "metadata": {},
   "outputs": [],
   "source": [
    "# Ejemplo: MEXCHEM.MX, LABB.MX, GFINBURO.MX y GFNORTEO.MX\n",
    "closes = get_adj_closes(tickers=[\"GAPB.MX\", \"LABB.MX\", \"GFINBURO.MX\", \"GFNORTEO.MX\"],\n",
    "                        start_date=\"2015-01-01\")"
   ]
  },
  {
   "cell_type": "code",
   "execution_count": 34,
   "metadata": {},
   "outputs": [
    {
     "data": {
      "text/plain": [
       "<matplotlib.axes._subplots.AxesSubplot at 0x7f08a12b8dd0>"
      ]
     },
     "execution_count": 34,
     "metadata": {},
     "output_type": "execute_result"
    },
    {
     "data": {
      "image/png": "[encoded data removed]",
      "text/plain": [
       "<Figure size 720x504 with 1 Axes>"
      ]
     },
     "metadata": {
      "needs_background": "light"
     },
     "output_type": "display_data"
    }
   ],
   "source": [
    "# Gráfico\n",
    "closes.plot(figsize=(10, 7))"
   ]
  },
  {
   "cell_type": "markdown",
   "metadata": {},
   "source": [
    "**Conclusión**\n",
    "- Aprendimos a importar datos desde archivos locales.\n",
    "- Aprendimos a importar datos remotamente con el paquete pandas_datareader.\n",
    "\n",
    "¿Ahora qué? Pues con estos históricos, obtendremos los rendimientos y ellos nos servirán como base para caracterizar la distribución de rendimientos... \n",
    "\n",
    "### ¡Oh, si!"
   ]
  },
  {
   "cell_type": "markdown",
   "metadata": {},
   "source": [
    "# Anuncios parroquiales\n",
    "## 1. Tanto las clases como los quices comienzan a las 20:05. Las clases terminan a las 21:45.\n",
    "## 2. Los quices tendrán una duración de 20 minuntos, y serán de 6 preguntas."
   ]
  },
  {
   "cell_type": "markdown",
   "metadata": {},
   "source": [
    "<script>\n",
    "  $(document).ready(function(){\n",
    "    $('div.prompt').hide();\n",
    "    $('div.back-to-top').hide();\n",
    "    $('nav#menubar').hide();\n",
    "    $('.breadcrumb').hide();\n",
    "    $('.hidden-print').hide();\n",
    "  });\n",
    "</script>\n",
    "\n",
    "<footer id=\"attribution\" style=\"float:right; color:#808080; background:#fff;\">\n",
    "Created with Jupyter by Esteban Jiménez Rodríguez.\n",
    "</footer>"
   ]
  }
 ],
 "metadata": {
  "kernelspec": {
   "display_name": "Python 3",
   "language": "python",
   "name": "python3"
  },
  "language_info": {
   "codemirror_mode": {
    "name": "ipython",
    "version": 3
   },
   "file_extension": ".py",
   "mimetype": "text/x-python",
   "name": "python",
   "nbconvert_exporter": "python",
   "pygments_lexer": "ipython3",
   "version": "3.7.6"
  }
 },
 "nbformat": 4,
 "nbformat_minor": 2
}
