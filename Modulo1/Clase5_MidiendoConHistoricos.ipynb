{
 "cells": [
  {
   "cell_type": "markdown",
   "metadata": {},
   "source": [
    "# Midiendo rendimiento y riesgo con datos históricos\n",
    "\n",
    "<img style=\"float: right; margin: 0px 0px 15px 15px;\" src=\"https://upload.wikimedia.org/wikipedia/commons/7/7d/Copper_Price_History_USD.png\" width=\"600px\" height=\"400px\" />\n",
    "\n",
    "> Ya sabemos que podemos caracterizar la distribución de rendimientos de un activo mediante una medida de tendencia central (media: rendimiento esperado) y una medida de dispersión (desviación estándar: volatilidad). \n",
    "\n",
    "> En la clase pasada vimos como obtener reportes históricos de precios de activos. ¿Cómo usamos estos históricos para medir el rendimiento esperado y la volatilidad de los rendimientos?"
   ]
  },
  {
   "cell_type": "markdown",
   "metadata": {},
   "source": [
    "*Objetivos:*\n",
    "- Calcular los rendimientos a partir de históricos de precios.\n",
    "- Estimar rendimiento esperado y riesgo a partir de históricos de rendimientos.\n",
    "- Anualizar rendimiento y volatilidad cuando los datos están en una base de tiempo menor.\n",
    "- Verificar la relación entre rendimiento y riesgo a través de datos reales.\n",
    "\n",
    "**Referencias:**\n",
    "- http://pandas.pydata.org/\n",
    "- https://pandas-datareader.readthedocs.io/en/latest/\n",
    "- Notas del curso \"Portfolio Selection and Risk Management\", Rice University, disponible en Coursera.\n",
    "___"
   ]
  },
  {
   "cell_type": "markdown",
   "metadata": {},
   "source": [
    "## 1. Cálculo de los rendimientos\n",
    "\n",
    "Muy bien, ya entonces sabemos descargar históricos de precios..."
   ]
  },
  {
   "cell_type": "markdown",
   "metadata": {},
   "source": [
    "**Ejemplo:** trabajaremos esta clase con activos que se encuentran en el top-10 del índice S&P500. Descargar precios ajustados en el cierre de Microsoft (MSFT), Apple (AAPL), Amazon (AMZN), Facebook (FB) y Alphabet Inc. (GOOGL) desde el primero de enero del 2015 hasta hoy."
   ]
  },
  {
   "cell_type": "code",
   "execution_count": 1,
   "metadata": {},
   "outputs": [],
   "source": [
    "# Importar paquetes\n",
    "import pandas_datareader.data as web\n",
    "import pandas as pd\n",
    "import numpy as np\n",
    "%matplotlib inline"
   ]
  },
  {
   "cell_type": "code",
   "execution_count": 2,
   "metadata": {},
   "outputs": [],
   "source": [
    "# Función para descargar precios de cierre ajustados:\n",
    "def get_adj_closes(tickers, start_date=None, end_date=None):\n",
    "    # Fecha inicio por defecto (start_date='2010-01-01') y fecha fin por defecto (end_date=today)\n",
    "    # Descargamos DataFrame con todos los datos\n",
    "    closes = web.DataReader(name=tickers, data_source='yahoo', start=start_date, end=end_date)\n",
    "    # Solo necesitamos los precios ajustados en el cierre\n",
    "    closes = closes['Adj Close']\n",
    "    # Se ordenan los índices de manera ascendente\n",
    "    closes.sort_index(inplace=True)\n",
    "    return closes"
   ]
  },
  {
   "cell_type": "code",
   "execution_count": 3,
   "metadata": {},
   "outputs": [],
   "source": [
    "# Información\n",
    "closes = get_adj_closes(tickers=[\"MSFT\", \"AAPL\", \"AMZN\", \"FB\", \"GOOGL\"],\n",
    "                        start_date=\"2015-01-01\")"
   ]
  },
  {
   "cell_type": "code",
   "execution_count": 4,
   "metadata": {},
   "outputs": [
    {
     "data": {
      "text/html": [
       "<div>\n",
       "<style scoped>\n",
       "    .dataframe tbody tr th:only-of-type {\n",
       "        vertical-align: middle;\n",
       "    }\n",
       "\n",
       "    .dataframe tbody tr th {\n",
       "        vertical-align: top;\n",
       "    }\n",
       "\n",
       "    .dataframe thead th {\n",
       "        text-align: right;\n",
       "    }\n",
       "</style>\n",
       "<table border=\"1\" class=\"dataframe\">\n",
       "  <thead>\n",
       "    <tr style=\"text-align: right;\">\n",
       "      <th>Symbols</th>\n",
       "      <th>MSFT</th>\n",
       "      <th>AAPL</th>\n",
       "      <th>AMZN</th>\n",
       "      <th>FB</th>\n",
       "      <th>GOOGL</th>\n",
       "    </tr>\n",
       "    <tr>\n",
       "      <th>Date</th>\n",
       "      <th></th>\n",
       "      <th></th>\n",
       "      <th></th>\n",
       "      <th></th>\n",
       "      <th></th>\n",
       "    </tr>\n",
       "  </thead>\n",
       "  <tbody>\n",
       "    <tr>\n",
       "      <th>2015-01-02</th>\n",
       "      <td>41.269203</td>\n",
       "      <td>24.782110</td>\n",
       "      <td>308.519989</td>\n",
       "      <td>78.449997</td>\n",
       "      <td>529.549988</td>\n",
       "    </tr>\n",
       "    <tr>\n",
       "      <th>2015-01-05</th>\n",
       "      <td>40.889702</td>\n",
       "      <td>24.083958</td>\n",
       "      <td>302.190002</td>\n",
       "      <td>77.190002</td>\n",
       "      <td>519.460022</td>\n",
       "    </tr>\n",
       "    <tr>\n",
       "      <th>2015-01-06</th>\n",
       "      <td>40.289543</td>\n",
       "      <td>24.086227</td>\n",
       "      <td>295.290009</td>\n",
       "      <td>76.150002</td>\n",
       "      <td>506.640015</td>\n",
       "    </tr>\n",
       "    <tr>\n",
       "      <th>2015-01-07</th>\n",
       "      <td>40.801434</td>\n",
       "      <td>24.423975</td>\n",
       "      <td>298.420013</td>\n",
       "      <td>76.150002</td>\n",
       "      <td>505.149994</td>\n",
       "    </tr>\n",
       "    <tr>\n",
       "      <th>2015-01-08</th>\n",
       "      <td>42.001743</td>\n",
       "      <td>25.362394</td>\n",
       "      <td>300.459991</td>\n",
       "      <td>78.180000</td>\n",
       "      <td>506.910004</td>\n",
       "    </tr>\n",
       "  </tbody>\n",
       "</table>\n",
       "</div>"
      ],
      "text/plain": [
       "Symbols          MSFT       AAPL        AMZN         FB       GOOGL\n",
       "Date                                                               \n",
       "2015-01-02  41.269203  24.782110  308.519989  78.449997  529.549988\n",
       "2015-01-05  40.889702  24.083958  302.190002  77.190002  519.460022\n",
       "2015-01-06  40.289543  24.086227  295.290009  76.150002  506.640015\n",
       "2015-01-07  40.801434  24.423975  298.420013  76.150002  505.149994\n",
       "2015-01-08  42.001743  25.362394  300.459991  78.180000  506.910004"
      ]
     },
     "execution_count": 4,
     "metadata": {},
     "output_type": "execute_result"
    }
   ],
   "source": [
    "# Precios diarios ajustados en el cierre\n",
    "closes.head()"
   ]
  },
  {
   "cell_type": "code",
   "execution_count": 5,
   "metadata": {},
   "outputs": [
    {
     "data": {
      "text/html": [
       "<div>\n",
       "<style scoped>\n",
       "    .dataframe tbody tr th:only-of-type {\n",
       "        vertical-align: middle;\n",
       "    }\n",
       "\n",
       "    .dataframe tbody tr th {\n",
       "        vertical-align: top;\n",
       "    }\n",
       "\n",
       "    .dataframe thead th {\n",
       "        text-align: right;\n",
       "    }\n",
       "</style>\n",
       "<table border=\"1\" class=\"dataframe\">\n",
       "  <thead>\n",
       "    <tr style=\"text-align: right;\">\n",
       "      <th>Symbols</th>\n",
       "      <th>MSFT</th>\n",
       "      <th>AAPL</th>\n",
       "      <th>AMZN</th>\n",
       "      <th>FB</th>\n",
       "      <th>GOOGL</th>\n",
       "    </tr>\n",
       "    <tr>\n",
       "      <th>Date</th>\n",
       "      <th></th>\n",
       "      <th></th>\n",
       "      <th></th>\n",
       "      <th></th>\n",
       "      <th></th>\n",
       "    </tr>\n",
       "  </thead>\n",
       "  <tbody>\n",
       "    <tr>\n",
       "      <th>2021-08-26</th>\n",
       "      <td>299.089996</td>\n",
       "      <td>147.539993</td>\n",
       "      <td>3316.000000</td>\n",
       "      <td>364.380005</td>\n",
       "      <td>2828.810059</td>\n",
       "    </tr>\n",
       "    <tr>\n",
       "      <th>2021-08-27</th>\n",
       "      <td>299.720001</td>\n",
       "      <td>148.600006</td>\n",
       "      <td>3349.629883</td>\n",
       "      <td>372.630005</td>\n",
       "      <td>2880.080078</td>\n",
       "    </tr>\n",
       "    <tr>\n",
       "      <th>2021-08-30</th>\n",
       "      <td>303.589996</td>\n",
       "      <td>153.119995</td>\n",
       "      <td>3421.570068</td>\n",
       "      <td>380.660004</td>\n",
       "      <td>2891.810059</td>\n",
       "    </tr>\n",
       "    <tr>\n",
       "      <th>2021-08-31</th>\n",
       "      <td>301.880005</td>\n",
       "      <td>151.830002</td>\n",
       "      <td>3470.790039</td>\n",
       "      <td>379.380005</td>\n",
       "      <td>2893.949951</td>\n",
       "    </tr>\n",
       "    <tr>\n",
       "      <th>2021-09-01</th>\n",
       "      <td>301.829987</td>\n",
       "      <td>152.509995</td>\n",
       "      <td>3479.000000</td>\n",
       "      <td>382.049988</td>\n",
       "      <td>2904.310059</td>\n",
       "    </tr>\n",
       "  </tbody>\n",
       "</table>\n",
       "</div>"
      ],
      "text/plain": [
       "Symbols           MSFT        AAPL         AMZN          FB        GOOGL\n",
       "Date                                                                    \n",
       "2021-08-26  299.089996  147.539993  3316.000000  364.380005  2828.810059\n",
       "2021-08-27  299.720001  148.600006  3349.629883  372.630005  2880.080078\n",
       "2021-08-30  303.589996  153.119995  3421.570068  380.660004  2891.810059\n",
       "2021-08-31  301.880005  151.830002  3470.790039  379.380005  2893.949951\n",
       "2021-09-01  301.829987  152.509995  3479.000000  382.049988  2904.310059"
      ]
     },
     "execution_count": 5,
     "metadata": {},
     "output_type": "execute_result"
    }
   ],
   "source": [
    "closes.tail()"
   ]
  },
  {
   "cell_type": "code",
   "execution_count": 7,
   "metadata": {},
   "outputs": [
    {
     "data": {
      "text/plain": [
       "<matplotlib.axes._subplots.AxesSubplot at 0x7f6770175f50>"
      ]
     },
     "execution_count": 7,
     "metadata": {},
     "output_type": "execute_result"
    },
    {
     "data": {
      "image/png": "[encoded data removed]",
      "text/plain": [
       "<Figure size 432x288 with 1 Axes>"
      ]
     },
     "metadata": {
      "needs_background": "light"
     },
     "output_type": "display_data"
    }
   ],
   "source": [
    "# Gráfico de histórico de precios diarios\n",
    "closes.plot();"
   ]
  },
  {
   "cell_type": "markdown",
   "metadata": {},
   "source": [
    "### 1.1. Rendimientos porcentuales"
   ]
  },
  {
   "cell_type": "markdown",
   "metadata": {},
   "source": [
    "Muy bien, pero para el análisis no trabajamos con los precios sino con los rendimientos... **¿porqué?**"
   ]
  },
  {
   "cell_type": "markdown",
   "metadata": {},
   "source": [
    "Para una sucesión de precios $\\{S_t\\}_{t=0}^{n}$, el rendimiento simple $R_t$ se define como el el cambio porcentual\n",
    "$$\n",
    "R_t=\\frac{S_t-S_{t-1}}{S_{t-1}}\n",
    "$$\n",
    "para $t=1,\\ldots,n$."
   ]
  },
  {
   "cell_type": "markdown",
   "metadata": {},
   "source": [
    "*¡Cuidado!* los rendimientos son de acuerdo a la base de tiempo en que se reportan los precios. Por ejemplo: \n",
    "- si los precios se reportan en una base diaria, los rendimientos también son diarios;\n",
    "- si los precios se reportan en una base mensual, los rendimientos también son mensuales."
   ]
  },
  {
   "cell_type": "code",
   "execution_count": 8,
   "metadata": {},
   "outputs": [],
   "source": [
    "closes.pct_change?"
   ]
  },
  {
   "cell_type": "code",
   "execution_count": 9,
   "metadata": {},
   "outputs": [
    {
     "data": {
      "text/plain": [
       "-0.00919574337309101"
      ]
     },
     "execution_count": 9,
     "metadata": {},
     "output_type": "execute_result"
    }
   ],
   "source": [
    "(40.889702 - 41.269203) / 41.269203"
   ]
  },
  {
   "cell_type": "code",
   "execution_count": 11,
   "metadata": {},
   "outputs": [
    {
     "data": {
      "text/html": [
       "<div>\n",
       "<style scoped>\n",
       "    .dataframe tbody tr th:only-of-type {\n",
       "        vertical-align: middle;\n",
       "    }\n",
       "\n",
       "    .dataframe tbody tr th {\n",
       "        vertical-align: top;\n",
       "    }\n",
       "\n",
       "    .dataframe thead th {\n",
       "        text-align: right;\n",
       "    }\n",
       "</style>\n",
       "<table border=\"1\" class=\"dataframe\">\n",
       "  <thead>\n",
       "    <tr style=\"text-align: right;\">\n",
       "      <th>Symbols</th>\n",
       "      <th>MSFT</th>\n",
       "      <th>AAPL</th>\n",
       "      <th>AMZN</th>\n",
       "      <th>FB</th>\n",
       "      <th>GOOGL</th>\n",
       "    </tr>\n",
       "    <tr>\n",
       "      <th>Date</th>\n",
       "      <th></th>\n",
       "      <th></th>\n",
       "      <th></th>\n",
       "      <th></th>\n",
       "      <th></th>\n",
       "    </tr>\n",
       "  </thead>\n",
       "  <tbody>\n",
       "    <tr>\n",
       "      <th>2015-01-05</th>\n",
       "      <td>-0.009196</td>\n",
       "      <td>-0.028172</td>\n",
       "      <td>-0.020517</td>\n",
       "      <td>-0.016061</td>\n",
       "      <td>-0.019054</td>\n",
       "    </tr>\n",
       "    <tr>\n",
       "      <th>2015-01-06</th>\n",
       "      <td>-0.014678</td>\n",
       "      <td>0.000094</td>\n",
       "      <td>-0.022833</td>\n",
       "      <td>-0.013473</td>\n",
       "      <td>-0.024679</td>\n",
       "    </tr>\n",
       "    <tr>\n",
       "      <th>2015-01-07</th>\n",
       "      <td>0.012705</td>\n",
       "      <td>0.014022</td>\n",
       "      <td>0.010600</td>\n",
       "      <td>0.000000</td>\n",
       "      <td>-0.002941</td>\n",
       "    </tr>\n",
       "    <tr>\n",
       "      <th>2015-01-08</th>\n",
       "      <td>0.029418</td>\n",
       "      <td>0.038422</td>\n",
       "      <td>0.006836</td>\n",
       "      <td>0.026658</td>\n",
       "      <td>0.003484</td>\n",
       "    </tr>\n",
       "    <tr>\n",
       "      <th>2015-01-09</th>\n",
       "      <td>-0.008405</td>\n",
       "      <td>0.001072</td>\n",
       "      <td>-0.011749</td>\n",
       "      <td>-0.005628</td>\n",
       "      <td>-0.012211</td>\n",
       "    </tr>\n",
       "  </tbody>\n",
       "</table>\n",
       "</div>"
      ],
      "text/plain": [
       "Symbols         MSFT      AAPL      AMZN        FB     GOOGL\n",
       "Date                                                        \n",
       "2015-01-05 -0.009196 -0.028172 -0.020517 -0.016061 -0.019054\n",
       "2015-01-06 -0.014678  0.000094 -0.022833 -0.013473 -0.024679\n",
       "2015-01-07  0.012705  0.014022  0.010600  0.000000 -0.002941\n",
       "2015-01-08  0.029418  0.038422  0.006836  0.026658  0.003484\n",
       "2015-01-09 -0.008405  0.001072 -0.011749 -0.005628 -0.012211"
      ]
     },
     "execution_count": 11,
     "metadata": {},
     "output_type": "execute_result"
    }
   ],
   "source": [
    "# Calcular rendimientos\n",
    "ret = closes.pct_change().dropna()\n",
    "ret.head()"
   ]
  },
  {
   "cell_type": "code",
   "execution_count": 12,
   "metadata": {},
   "outputs": [
    {
     "data": {
      "image/png": "[encoded data removed]",
      "text/plain": [
       "<Figure size 432x288 with 1 Axes>"
      ]
     },
     "metadata": {
      "needs_background": "light"
     },
     "output_type": "display_data"
    }
   ],
   "source": [
    "# Graficar...\n",
    "ret.plot();"
   ]
  },
  {
   "cell_type": "markdown",
   "metadata": {},
   "source": [
    "**¿Qué se observa respecto a los precios?**\n",
    "\n",
    "Respuestas:\n",
    "- Los rendimientos parecen conservar tendecias estadísticas constantes (por ejemplo, oscilan al rededor de números cercanos a cero). "
   ]
  },
  {
   "cell_type": "markdown",
   "metadata": {},
   "source": [
    "### 1.2. Rendimientos logarítmicos (log-rendimientos)"
   ]
  },
  {
   "cell_type": "markdown",
   "metadata": {},
   "source": [
    "Otro rendimiento usado con frecuencia es el rendimiento continuamente compuesto o rendimiento logaritmico. Éste, está definido como\n",
    "\n",
    "$$\n",
    "r_t=\\ln\\left(\\frac{S_t}{S_{t-1}}\\right).\n",
    "$$\n",
    "\n",
    "Es fácil darse cuenta que $r_t=\\ln(1+R_t)$.\n",
    "\n",
    "<font color=blue>Ver en el tablero</font> que si $0\\leq|x|\\ll 1$, entonces $\\ln(1+x)\\approx x$."
   ]
  },
  {
   "cell_type": "code",
   "execution_count": 13,
   "metadata": {},
   "outputs": [],
   "source": [
    "# ¿Cómo calcular S_{t-1}?\n",
    "closes.shift?"
   ]
  },
  {
   "cell_type": "code",
   "execution_count": 14,
   "metadata": {},
   "outputs": [
    {
     "data": {
      "text/html": [
       "<div>\n",
       "<style scoped>\n",
       "    .dataframe tbody tr th:only-of-type {\n",
       "        vertical-align: middle;\n",
       "    }\n",
       "\n",
       "    .dataframe tbody tr th {\n",
       "        vertical-align: top;\n",
       "    }\n",
       "\n",
       "    .dataframe thead th {\n",
       "        text-align: right;\n",
       "    }\n",
       "</style>\n",
       "<table border=\"1\" class=\"dataframe\">\n",
       "  <thead>\n",
       "    <tr style=\"text-align: right;\">\n",
       "      <th>Symbols</th>\n",
       "      <th>MSFT</th>\n",
       "      <th>AAPL</th>\n",
       "      <th>AMZN</th>\n",
       "      <th>FB</th>\n",
       "      <th>GOOGL</th>\n",
       "    </tr>\n",
       "    <tr>\n",
       "      <th>Date</th>\n",
       "      <th></th>\n",
       "      <th></th>\n",
       "      <th></th>\n",
       "      <th></th>\n",
       "      <th></th>\n",
       "    </tr>\n",
       "  </thead>\n",
       "  <tbody>\n",
       "    <tr>\n",
       "      <th>2015-01-02</th>\n",
       "      <td>NaN</td>\n",
       "      <td>NaN</td>\n",
       "      <td>NaN</td>\n",
       "      <td>NaN</td>\n",
       "      <td>NaN</td>\n",
       "    </tr>\n",
       "    <tr>\n",
       "      <th>2015-01-05</th>\n",
       "      <td>41.269203</td>\n",
       "      <td>24.782110</td>\n",
       "      <td>308.519989</td>\n",
       "      <td>78.449997</td>\n",
       "      <td>529.549988</td>\n",
       "    </tr>\n",
       "    <tr>\n",
       "      <th>2015-01-06</th>\n",
       "      <td>40.889702</td>\n",
       "      <td>24.083958</td>\n",
       "      <td>302.190002</td>\n",
       "      <td>77.190002</td>\n",
       "      <td>519.460022</td>\n",
       "    </tr>\n",
       "    <tr>\n",
       "      <th>2015-01-07</th>\n",
       "      <td>40.289543</td>\n",
       "      <td>24.086227</td>\n",
       "      <td>295.290009</td>\n",
       "      <td>76.150002</td>\n",
       "      <td>506.640015</td>\n",
       "    </tr>\n",
       "    <tr>\n",
       "      <th>2015-01-08</th>\n",
       "      <td>40.801434</td>\n",
       "      <td>24.423975</td>\n",
       "      <td>298.420013</td>\n",
       "      <td>76.150002</td>\n",
       "      <td>505.149994</td>\n",
       "    </tr>\n",
       "  </tbody>\n",
       "</table>\n",
       "</div>"
      ],
      "text/plain": [
       "Symbols          MSFT       AAPL        AMZN         FB       GOOGL\n",
       "Date                                                               \n",
       "2015-01-02        NaN        NaN         NaN        NaN         NaN\n",
       "2015-01-05  41.269203  24.782110  308.519989  78.449997  529.549988\n",
       "2015-01-06  40.889702  24.083958  302.190002  77.190002  519.460022\n",
       "2015-01-07  40.289543  24.086227  295.290009  76.150002  506.640015\n",
       "2015-01-08  40.801434  24.423975  298.420013  76.150002  505.149994"
      ]
     },
     "execution_count": 14,
     "metadata": {},
     "output_type": "execute_result"
    }
   ],
   "source": [
    "closes.shift().head()"
   ]
  },
  {
   "cell_type": "code",
   "execution_count": 21,
   "metadata": {},
   "outputs": [
    {
     "data": {
      "text/html": [
       "<div>\n",
       "<style scoped>\n",
       "    .dataframe tbody tr th:only-of-type {\n",
       "        vertical-align: middle;\n",
       "    }\n",
       "\n",
       "    .dataframe tbody tr th {\n",
       "        vertical-align: top;\n",
       "    }\n",
       "\n",
       "    .dataframe thead th {\n",
       "        text-align: right;\n",
       "    }\n",
       "</style>\n",
       "<table border=\"1\" class=\"dataframe\">\n",
       "  <thead>\n",
       "    <tr style=\"text-align: right;\">\n",
       "      <th>Symbols</th>\n",
       "      <th>MSFT</th>\n",
       "      <th>AAPL</th>\n",
       "      <th>AMZN</th>\n",
       "      <th>FB</th>\n",
       "      <th>GOOGL</th>\n",
       "    </tr>\n",
       "    <tr>\n",
       "      <th>Date</th>\n",
       "      <th></th>\n",
       "      <th></th>\n",
       "      <th></th>\n",
       "      <th></th>\n",
       "      <th></th>\n",
       "    </tr>\n",
       "  </thead>\n",
       "  <tbody>\n",
       "    <tr>\n",
       "      <th>2015-01-02</th>\n",
       "      <td>41.269203</td>\n",
       "      <td>24.782110</td>\n",
       "      <td>308.519989</td>\n",
       "      <td>78.449997</td>\n",
       "      <td>529.549988</td>\n",
       "    </tr>\n",
       "    <tr>\n",
       "      <th>2015-01-05</th>\n",
       "      <td>40.889702</td>\n",
       "      <td>24.083958</td>\n",
       "      <td>302.190002</td>\n",
       "      <td>77.190002</td>\n",
       "      <td>519.460022</td>\n",
       "    </tr>\n",
       "    <tr>\n",
       "      <th>2015-01-06</th>\n",
       "      <td>40.289543</td>\n",
       "      <td>24.086227</td>\n",
       "      <td>295.290009</td>\n",
       "      <td>76.150002</td>\n",
       "      <td>506.640015</td>\n",
       "    </tr>\n",
       "    <tr>\n",
       "      <th>2015-01-07</th>\n",
       "      <td>40.801434</td>\n",
       "      <td>24.423975</td>\n",
       "      <td>298.420013</td>\n",
       "      <td>76.150002</td>\n",
       "      <td>505.149994</td>\n",
       "    </tr>\n",
       "    <tr>\n",
       "      <th>2015-01-08</th>\n",
       "      <td>42.001743</td>\n",
       "      <td>25.362394</td>\n",
       "      <td>300.459991</td>\n",
       "      <td>78.180000</td>\n",
       "      <td>506.910004</td>\n",
       "    </tr>\n",
       "  </tbody>\n",
       "</table>\n",
       "</div>"
      ],
      "text/plain": [
       "Symbols          MSFT       AAPL        AMZN         FB       GOOGL\n",
       "Date                                                               \n",
       "2015-01-02  41.269203  24.782110  308.519989  78.449997  529.549988\n",
       "2015-01-05  40.889702  24.083958  302.190002  77.190002  519.460022\n",
       "2015-01-06  40.289543  24.086227  295.290009  76.150002  506.640015\n",
       "2015-01-07  40.801434  24.423975  298.420013  76.150002  505.149994\n",
       "2015-01-08  42.001743  25.362394  300.459991  78.180000  506.910004"
      ]
     },
     "execution_count": 21,
     "metadata": {},
     "output_type": "execute_result"
    }
   ],
   "source": [
    "closes.head()"
   ]
  },
  {
   "cell_type": "code",
   "execution_count": 22,
   "metadata": {},
   "outputs": [],
   "source": [
    "# Calcular rendimientos continuamente compuestos\n",
    "log_ret = np.log(closes / closes.shift()).dropna()"
   ]
  },
  {
   "cell_type": "code",
   "execution_count": 23,
   "metadata": {},
   "outputs": [
    {
     "data": {
      "text/html": [
       "<div>\n",
       "<style scoped>\n",
       "    .dataframe tbody tr th:only-of-type {\n",
       "        vertical-align: middle;\n",
       "    }\n",
       "\n",
       "    .dataframe tbody tr th {\n",
       "        vertical-align: top;\n",
       "    }\n",
       "\n",
       "    .dataframe thead th {\n",
       "        text-align: right;\n",
       "    }\n",
       "</style>\n",
       "<table border=\"1\" class=\"dataframe\">\n",
       "  <thead>\n",
       "    <tr style=\"text-align: right;\">\n",
       "      <th>Symbols</th>\n",
       "      <th>MSFT</th>\n",
       "      <th>AAPL</th>\n",
       "      <th>AMZN</th>\n",
       "      <th>FB</th>\n",
       "      <th>GOOGL</th>\n",
       "    </tr>\n",
       "    <tr>\n",
       "      <th>Date</th>\n",
       "      <th></th>\n",
       "      <th></th>\n",
       "      <th></th>\n",
       "      <th></th>\n",
       "      <th></th>\n",
       "    </tr>\n",
       "  </thead>\n",
       "  <tbody>\n",
       "    <tr>\n",
       "      <th>2015-01-05</th>\n",
       "      <td>-0.009238</td>\n",
       "      <td>-0.028576</td>\n",
       "      <td>-0.020731</td>\n",
       "      <td>-0.016191</td>\n",
       "      <td>-0.019238</td>\n",
       "    </tr>\n",
       "    <tr>\n",
       "      <th>2015-01-06</th>\n",
       "      <td>-0.014786</td>\n",
       "      <td>0.000094</td>\n",
       "      <td>-0.023098</td>\n",
       "      <td>-0.013565</td>\n",
       "      <td>-0.024989</td>\n",
       "    </tr>\n",
       "    <tr>\n",
       "      <th>2015-01-07</th>\n",
       "      <td>0.012625</td>\n",
       "      <td>0.013925</td>\n",
       "      <td>0.010544</td>\n",
       "      <td>0.000000</td>\n",
       "      <td>-0.002945</td>\n",
       "    </tr>\n",
       "    <tr>\n",
       "      <th>2015-01-08</th>\n",
       "      <td>0.028994</td>\n",
       "      <td>0.037702</td>\n",
       "      <td>0.006813</td>\n",
       "      <td>0.026309</td>\n",
       "      <td>0.003478</td>\n",
       "    </tr>\n",
       "    <tr>\n",
       "      <th>2015-01-09</th>\n",
       "      <td>-0.008441</td>\n",
       "      <td>0.001072</td>\n",
       "      <td>-0.011818</td>\n",
       "      <td>-0.005644</td>\n",
       "      <td>-0.012286</td>\n",
       "    </tr>\n",
       "  </tbody>\n",
       "</table>\n",
       "</div>"
      ],
      "text/plain": [
       "Symbols         MSFT      AAPL      AMZN        FB     GOOGL\n",
       "Date                                                        \n",
       "2015-01-05 -0.009238 -0.028576 -0.020731 -0.016191 -0.019238\n",
       "2015-01-06 -0.014786  0.000094 -0.023098 -0.013565 -0.024989\n",
       "2015-01-07  0.012625  0.013925  0.010544  0.000000 -0.002945\n",
       "2015-01-08  0.028994  0.037702  0.006813  0.026309  0.003478\n",
       "2015-01-09 -0.008441  0.001072 -0.011818 -0.005644 -0.012286"
      ]
     },
     "execution_count": 23,
     "metadata": {},
     "output_type": "execute_result"
    }
   ],
   "source": [
    "log_ret.head()"
   ]
  },
  {
   "cell_type": "code",
   "execution_count": 24,
   "metadata": {},
   "outputs": [
    {
     "data": {
      "text/html": [
       "<div>\n",
       "<style scoped>\n",
       "    .dataframe tbody tr th:only-of-type {\n",
       "        vertical-align: middle;\n",
       "    }\n",
       "\n",
       "    .dataframe tbody tr th {\n",
       "        vertical-align: top;\n",
       "    }\n",
       "\n",
       "    .dataframe thead th {\n",
       "        text-align: right;\n",
       "    }\n",
       "</style>\n",
       "<table border=\"1\" class=\"dataframe\">\n",
       "  <thead>\n",
       "    <tr style=\"text-align: right;\">\n",
       "      <th>Symbols</th>\n",
       "      <th>MSFT</th>\n",
       "      <th>AAPL</th>\n",
       "      <th>AMZN</th>\n",
       "      <th>FB</th>\n",
       "      <th>GOOGL</th>\n",
       "    </tr>\n",
       "    <tr>\n",
       "      <th>Date</th>\n",
       "      <th></th>\n",
       "      <th></th>\n",
       "      <th></th>\n",
       "      <th></th>\n",
       "      <th></th>\n",
       "    </tr>\n",
       "  </thead>\n",
       "  <tbody>\n",
       "    <tr>\n",
       "      <th>2015-01-05</th>\n",
       "      <td>-0.009196</td>\n",
       "      <td>-0.028172</td>\n",
       "      <td>-0.020517</td>\n",
       "      <td>-0.016061</td>\n",
       "      <td>-0.019054</td>\n",
       "    </tr>\n",
       "    <tr>\n",
       "      <th>2015-01-06</th>\n",
       "      <td>-0.014678</td>\n",
       "      <td>0.000094</td>\n",
       "      <td>-0.022833</td>\n",
       "      <td>-0.013473</td>\n",
       "      <td>-0.024679</td>\n",
       "    </tr>\n",
       "    <tr>\n",
       "      <th>2015-01-07</th>\n",
       "      <td>0.012705</td>\n",
       "      <td>0.014022</td>\n",
       "      <td>0.010600</td>\n",
       "      <td>0.000000</td>\n",
       "      <td>-0.002941</td>\n",
       "    </tr>\n",
       "    <tr>\n",
       "      <th>2015-01-08</th>\n",
       "      <td>0.029418</td>\n",
       "      <td>0.038422</td>\n",
       "      <td>0.006836</td>\n",
       "      <td>0.026658</td>\n",
       "      <td>0.003484</td>\n",
       "    </tr>\n",
       "    <tr>\n",
       "      <th>2015-01-09</th>\n",
       "      <td>-0.008405</td>\n",
       "      <td>0.001072</td>\n",
       "      <td>-0.011749</td>\n",
       "      <td>-0.005628</td>\n",
       "      <td>-0.012211</td>\n",
       "    </tr>\n",
       "  </tbody>\n",
       "</table>\n",
       "</div>"
      ],
      "text/plain": [
       "Symbols         MSFT      AAPL      AMZN        FB     GOOGL\n",
       "Date                                                        \n",
       "2015-01-05 -0.009196 -0.028172 -0.020517 -0.016061 -0.019054\n",
       "2015-01-06 -0.014678  0.000094 -0.022833 -0.013473 -0.024679\n",
       "2015-01-07  0.012705  0.014022  0.010600  0.000000 -0.002941\n",
       "2015-01-08  0.029418  0.038422  0.006836  0.026658  0.003484\n",
       "2015-01-09 -0.008405  0.001072 -0.011749 -0.005628 -0.012211"
      ]
     },
     "execution_count": 24,
     "metadata": {},
     "output_type": "execute_result"
    }
   ],
   "source": [
    "# Recordar rendimientos porcentuales. Ver que son similares\n",
    "ret.head()"
   ]
  },
  {
   "cell_type": "code",
   "execution_count": 25,
   "metadata": {},
   "outputs": [
    {
     "data": {
      "text/html": [
       "<div>\n",
       "<style scoped>\n",
       "    .dataframe tbody tr th:only-of-type {\n",
       "        vertical-align: middle;\n",
       "    }\n",
       "\n",
       "    .dataframe tbody tr th {\n",
       "        vertical-align: top;\n",
       "    }\n",
       "\n",
       "    .dataframe thead th {\n",
       "        text-align: right;\n",
       "    }\n",
       "</style>\n",
       "<table border=\"1\" class=\"dataframe\">\n",
       "  <thead>\n",
       "    <tr style=\"text-align: right;\">\n",
       "      <th>Symbols</th>\n",
       "      <th>MSFT</th>\n",
       "      <th>AAPL</th>\n",
       "      <th>AMZN</th>\n",
       "      <th>FB</th>\n",
       "      <th>GOOGL</th>\n",
       "    </tr>\n",
       "    <tr>\n",
       "      <th>Date</th>\n",
       "      <th></th>\n",
       "      <th></th>\n",
       "      <th></th>\n",
       "      <th></th>\n",
       "      <th></th>\n",
       "    </tr>\n",
       "  </thead>\n",
       "  <tbody>\n",
       "    <tr>\n",
       "      <th>2015-01-05</th>\n",
       "      <td>0.000043</td>\n",
       "      <td>4.044343e-04</td>\n",
       "      <td>0.000213</td>\n",
       "      <td>0.000130</td>\n",
       "      <td>0.000184</td>\n",
       "    </tr>\n",
       "    <tr>\n",
       "      <th>2015-01-06</th>\n",
       "      <td>0.000109</td>\n",
       "      <td>4.440594e-09</td>\n",
       "      <td>0.000265</td>\n",
       "      <td>0.000092</td>\n",
       "      <td>0.000310</td>\n",
       "    </tr>\n",
       "    <tr>\n",
       "      <th>2015-01-07</th>\n",
       "      <td>0.000080</td>\n",
       "      <td>9.740484e-05</td>\n",
       "      <td>0.000056</td>\n",
       "      <td>0.000000</td>\n",
       "      <td>0.000004</td>\n",
       "    </tr>\n",
       "    <tr>\n",
       "      <th>2015-01-08</th>\n",
       "      <td>0.000424</td>\n",
       "      <td>7.197489e-04</td>\n",
       "      <td>0.000023</td>\n",
       "      <td>0.000349</td>\n",
       "      <td>0.000006</td>\n",
       "    </tr>\n",
       "    <tr>\n",
       "      <th>2015-01-09</th>\n",
       "      <td>0.000036</td>\n",
       "      <td>5.746169e-07</td>\n",
       "      <td>0.000070</td>\n",
       "      <td>0.000016</td>\n",
       "      <td>0.000075</td>\n",
       "    </tr>\n",
       "  </tbody>\n",
       "</table>\n",
       "</div>"
      ],
      "text/plain": [
       "Symbols         MSFT          AAPL      AMZN        FB     GOOGL\n",
       "Date                                                            \n",
       "2015-01-05  0.000043  4.044343e-04  0.000213  0.000130  0.000184\n",
       "2015-01-06  0.000109  4.440594e-09  0.000265  0.000092  0.000310\n",
       "2015-01-07  0.000080  9.740484e-05  0.000056  0.000000  0.000004\n",
       "2015-01-08  0.000424  7.197489e-04  0.000023  0.000349  0.000006\n",
       "2015-01-09  0.000036  5.746169e-07  0.000070  0.000016  0.000075"
      ]
     },
     "execution_count": 25,
     "metadata": {},
     "output_type": "execute_result"
    }
   ],
   "source": [
    "# Veamos el valor absoluto de la diferencia\n",
    "np.abs(ret - log_ret).head()"
   ]
  },
  {
   "cell_type": "markdown",
   "metadata": {},
   "source": [
    "Por lo anterior, muchas veces se usan para el análisis los rendimientos continuamente compuestos.\n",
    "___"
   ]
  },
  {
   "cell_type": "markdown",
   "metadata": {},
   "source": [
    "## 2. Caracterización de la distribución de los rendimientos\n",
    "\n",
    "Entonces:\n",
    "- partimos de que tenemos los rendimientos porcentuales diarios de Apple, Walmart, IBM y Nike desde inicios del 2011 a finales del 2015;\n",
    "- ¿cómo resumirían estos datos?"
   ]
  },
  {
   "cell_type": "code",
   "execution_count": 26,
   "metadata": {},
   "outputs": [
    {
     "data": {
      "text/plain": [
       "Symbols\n",
       "MSFT     0.001333\n",
       "AAPL     0.001254\n",
       "AMZN     0.001626\n",
       "FB       0.001143\n",
       "GOOGL    0.001155\n",
       "dtype: float64"
      ]
     },
     "execution_count": 26,
     "metadata": {},
     "output_type": "execute_result"
    }
   ],
   "source": [
    "# Rendimiento medio diario (media aritmética)\n",
    "ret.mean()"
   ]
  },
  {
   "cell_type": "code",
   "execution_count": 27,
   "metadata": {
    "scrolled": true
   },
   "outputs": [
    {
     "data": {
      "text/plain": [
       "Symbols\n",
       "MSFT     0.017118\n",
       "AAPL     0.018438\n",
       "AMZN     0.019146\n",
       "FB       0.019889\n",
       "GOOGL    0.016761\n",
       "dtype: float64"
      ]
     },
     "execution_count": 27,
     "metadata": {},
     "output_type": "execute_result"
    }
   ],
   "source": [
    "# Volatilidad diaria (desviación estándar)\n",
    "ret.std()"
   ]
  },
  {
   "cell_type": "code",
   "execution_count": 28,
   "metadata": {},
   "outputs": [
    {
     "data": {
      "text/html": [
       "<div>\n",
       "<style scoped>\n",
       "    .dataframe tbody tr th:only-of-type {\n",
       "        vertical-align: middle;\n",
       "    }\n",
       "\n",
       "    .dataframe tbody tr th {\n",
       "        vertical-align: top;\n",
       "    }\n",
       "\n",
       "    .dataframe thead th {\n",
       "        text-align: right;\n",
       "    }\n",
       "</style>\n",
       "<table border=\"1\" class=\"dataframe\">\n",
       "  <thead>\n",
       "    <tr style=\"text-align: right;\">\n",
       "      <th></th>\n",
       "      <th>Rendimiento esperado</th>\n",
       "      <th>Volatilidad</th>\n",
       "    </tr>\n",
       "    <tr>\n",
       "      <th>Symbols</th>\n",
       "      <th></th>\n",
       "      <th></th>\n",
       "    </tr>\n",
       "  </thead>\n",
       "  <tbody>\n",
       "    <tr>\n",
       "      <th>MSFT</th>\n",
       "      <td>0.001333</td>\n",
       "      <td>0.017118</td>\n",
       "    </tr>\n",
       "    <tr>\n",
       "      <th>AAPL</th>\n",
       "      <td>0.001254</td>\n",
       "      <td>0.018438</td>\n",
       "    </tr>\n",
       "    <tr>\n",
       "      <th>AMZN</th>\n",
       "      <td>0.001626</td>\n",
       "      <td>0.019146</td>\n",
       "    </tr>\n",
       "    <tr>\n",
       "      <th>FB</th>\n",
       "      <td>0.001143</td>\n",
       "      <td>0.019889</td>\n",
       "    </tr>\n",
       "    <tr>\n",
       "      <th>GOOGL</th>\n",
       "      <td>0.001155</td>\n",
       "      <td>0.016761</td>\n",
       "    </tr>\n",
       "  </tbody>\n",
       "</table>\n",
       "</div>"
      ],
      "text/plain": [
       "         Rendimiento esperado  Volatilidad\n",
       "Symbols                                   \n",
       "MSFT                 0.001333     0.017118\n",
       "AAPL                 0.001254     0.018438\n",
       "AMZN                 0.001626     0.019146\n",
       "FB                   0.001143     0.019889\n",
       "GOOGL                0.001155     0.016761"
      ]
     },
     "execution_count": 28,
     "metadata": {},
     "output_type": "execute_result"
    }
   ],
   "source": [
    "# Podemos resumir en un DataFrame\n",
    "ret_dist_summary = pd.DataFrame(data={'Rendimiento esperado': ret.mean(),\n",
    "                                      'Volatilidad': ret.std()})\n",
    "ret_dist_summary"
   ]
  },
  {
   "cell_type": "markdown",
   "metadata": {},
   "source": [
    "Normalmente se reportan rendimientos esperados y volatilidades en una base anual. Para anualizar:\n",
    "\n",
    "$$E[r_a]=12E[r_m]=252E[r_d]=52E[r_w],\\text{ y}$$\n",
    "\n",
    "$$\\sigma_{r_a}=\\sqrt{12}\\sigma_{r_m}=\\sqrt{252}\\sigma_{r_d}=\\sqrt{52}\\sigma_{r_w}$$"
   ]
  },
  {
   "cell_type": "code",
   "execution_count": 29,
   "metadata": {},
   "outputs": [],
   "source": [
    "# Resumen en base anual\n",
    "ret_dist_summary_annual = pd.DataFrame(data={'Rendimiento esperado': 252 * ret.mean(),\n",
    "                                             'Volatilidad': np.sqrt(252) * ret.std()})"
   ]
  },
  {
   "cell_type": "code",
   "execution_count": 30,
   "metadata": {},
   "outputs": [
    {
     "data": {
      "text/html": [
       "<div>\n",
       "<style scoped>\n",
       "    .dataframe tbody tr th:only-of-type {\n",
       "        vertical-align: middle;\n",
       "    }\n",
       "\n",
       "    .dataframe tbody tr th {\n",
       "        vertical-align: top;\n",
       "    }\n",
       "\n",
       "    .dataframe thead th {\n",
       "        text-align: right;\n",
       "    }\n",
       "</style>\n",
       "<table border=\"1\" class=\"dataframe\">\n",
       "  <thead>\n",
       "    <tr style=\"text-align: right;\">\n",
       "      <th></th>\n",
       "      <th>Rendimiento esperado</th>\n",
       "      <th>Volatilidad</th>\n",
       "    </tr>\n",
       "    <tr>\n",
       "      <th>Symbols</th>\n",
       "      <th></th>\n",
       "      <th></th>\n",
       "    </tr>\n",
       "  </thead>\n",
       "  <tbody>\n",
       "    <tr>\n",
       "      <th>MSFT</th>\n",
       "      <td>0.335869</td>\n",
       "      <td>0.271735</td>\n",
       "    </tr>\n",
       "    <tr>\n",
       "      <th>AAPL</th>\n",
       "      <td>0.315897</td>\n",
       "      <td>0.292688</td>\n",
       "    </tr>\n",
       "    <tr>\n",
       "      <th>AMZN</th>\n",
       "      <td>0.409850</td>\n",
       "      <td>0.303927</td>\n",
       "    </tr>\n",
       "    <tr>\n",
       "      <th>FB</th>\n",
       "      <td>0.287946</td>\n",
       "      <td>0.315730</td>\n",
       "    </tr>\n",
       "    <tr>\n",
       "      <th>GOOGL</th>\n",
       "      <td>0.290943</td>\n",
       "      <td>0.266072</td>\n",
       "    </tr>\n",
       "  </tbody>\n",
       "</table>\n",
       "</div>"
      ],
      "text/plain": [
       "         Rendimiento esperado  Volatilidad\n",
       "Symbols                                   \n",
       "MSFT                 0.335869     0.271735\n",
       "AAPL                 0.315897     0.292688\n",
       "AMZN                 0.409850     0.303927\n",
       "FB                   0.287946     0.315730\n",
       "GOOGL                0.290943     0.266072"
      ]
     },
     "execution_count": 30,
     "metadata": {},
     "output_type": "execute_result"
    }
   ],
   "source": [
    "ret_dist_summary_annual"
   ]
  },
  {
   "cell_type": "code",
   "execution_count": 31,
   "metadata": {},
   "outputs": [],
   "source": [
    "from matplotlib import pyplot as plt"
   ]
  },
  {
   "cell_type": "code",
   "execution_count": 32,
   "metadata": {},
   "outputs": [
    {
     "data": {
      "text/plain": [
       "<matplotlib.legend.Legend at 0x7f676be7cc90>"
      ]
     },
     "execution_count": 32,
     "metadata": {},
     "output_type": "execute_result"
    },
    {
     "data": {
      "image/png": "[encoded data removed]",
      "text/plain": [
       "<Figure size 432x288 with 1 Axes>"
      ]
     },
     "metadata": {
      "needs_background": "light"
     },
     "output_type": "display_data"
    }
   ],
   "source": [
    "# Gráfico rendimiento esperado vs. volatilidad\n",
    "plt.figure(figsize=(6, 4))\n",
    "for i in range(len(ret_dist_summary_annual)):\n",
    "    plt.plot(ret_dist_summary_annual.iloc[i, 1],\n",
    "             ret_dist_summary_annual.iloc[i, 0],\n",
    "             '*',\n",
    "             label=ret_dist_summary_annual.index[i],\n",
    "             ms=10)\n",
    "\n",
    "plt.grid()\n",
    "plt.xlabel(\"Volatilidad $\\sigma$\")\n",
    "plt.ylabel(\"Rendimiento esperado $E[r]$\")\n",
    "plt.legend(loc=\"upper left\", bbox_to_anchor=(1.05, 1))"
   ]
  },
  {
   "cell_type": "markdown",
   "metadata": {},
   "source": [
    "### 2.1 Ajuste de curvas con mínimos cuadrados\n",
    "Consideramos que tenemos un conjunto de n pares ordenados de datos $(\\sigma_{r_i},E[r_i])$, para $i=1,2,3,\\dots,n$... **en este caso corresponden a volatilidad y rendimiento esperado**\n",
    "\n",
    "#### ¿Cuál es la recta que mejor se ajusta a estos datos?\n",
    "Consideramos entonces ajustes de la forma $\\hat{f}(\\sigma) = \\beta_0+\\beta_1 \\sigma = \\left[1 \\quad \\sigma\\right]\\left[\\begin{array}{c} \\beta_0 \\\\ \\beta_1 \\end{array}\\right]=\\left[1 \\quad \\sigma\\right]\\boldsymbol{\\beta}$ (lineas rectas).\n",
    "\n",
    "Para decir '*mejor*', tenemos que definir algún sentido en que una recta se ajuste *mejor* que otra.\n",
    "\n",
    "**Mínimos cuadrados**: el objetivo es seleccionar los coeficientes $\\boldsymbol{\\beta}=\\left[\\beta_0 \\quad \\beta_1 \\right]^T$, de forma que la función evaluada en los puntos $\\sigma_{r_i}$ ($\\hat{f}(\\sigma_{r_i})$) aproxime los valores correspondientes $E[r_i]$.\n",
    "\n",
    "La formulación por mínimos cuadrados, encuentra los $\\boldsymbol{\\beta}=\\left[\\beta_0 \\quad \\beta_1 \\right]^T$ que minimiza\n",
    "$$\\sum_{i=1}^{n}(E[r_i]-\\hat{f}(\\sigma_{r_i}))^2$$"
   ]
  },
  {
   "cell_type": "code",
   "execution_count": 33,
   "metadata": {},
   "outputs": [],
   "source": [
    "# Importar el módulo optimize de la librería scipy\n",
    "from scipy.optimize import minimize"
   ]
  },
  {
   "cell_type": "code",
   "execution_count": 38,
   "metadata": {},
   "outputs": [],
   "source": [
    "# Funcion minimize\n",
    "minimize?"
   ]
  },
  {
   "cell_type": "code",
   "execution_count": 37,
   "metadata": {},
   "outputs": [],
   "source": [
    "# Funcion objetivo y condicion inicial\n",
    "def min_sq(beta, y, x):\n",
    "    recta = beta[0] + beta[1] * x\n",
    "    error = y - recta\n",
    "    return (error**2).sum()\n",
    "beta_ini = [0, 0]"
   ]
  },
  {
   "cell_type": "code",
   "execution_count": 39,
   "metadata": {},
   "outputs": [],
   "source": [
    "# Resolver problema de optimizacion\n",
    "sol = minimize(fun=min_sq,\n",
    "               x0=beta_ini,\n",
    "               args=(ret_dist_summary_annual[\"Rendimiento esperado\"], ret_dist_summary_annual[\"Volatilidad\"]))"
   ]
  },
  {
   "cell_type": "code",
   "execution_count": 40,
   "metadata": {},
   "outputs": [
    {
     "data": {
      "text/plain": [
       "      fun: 0.009505573496504353\n",
       " hess_inv: array([[ 23.8701762 , -81.95744907],\n",
       "       [-81.95744907, 282.58197997]])\n",
       "      jac: array([ 1.16415322e-10, -8.14907253e-10])\n",
       "  message: 'Optimization terminated successfully.'\n",
       "     nfev: 36\n",
       "      nit: 4\n",
       "     njev: 9\n",
       "   status: 0\n",
       "  success: True\n",
       "        x: array([0.19373223, 0.46329152])"
      ]
     },
     "execution_count": 40,
     "metadata": {},
     "output_type": "execute_result"
    }
   ],
   "source": [
    "sol"
   ]
  },
  {
   "cell_type": "code",
   "execution_count": 41,
   "metadata": {},
   "outputs": [
    {
     "data": {
      "text/plain": [
       "array([0.19373223, 0.46329152])"
      ]
     },
     "execution_count": 41,
     "metadata": {},
     "output_type": "execute_result"
    }
   ],
   "source": [
    "beta = sol.x\n",
    "beta"
   ]
  },
  {
   "cell_type": "code",
   "execution_count": 47,
   "metadata": {},
   "outputs": [
    {
     "data": {
      "text/plain": [
       "(array([[1.        , 0.27173505],\n",
       "        [1.        , 0.2926884 ],\n",
       "        [1.        , 0.30392731],\n",
       "        [1.        , 0.31573049],\n",
       "        [1.        , 0.26607225]]),\n",
       " array([0.33586895, 0.31589728, 0.40985007, 0.28794555, 0.29094314]))"
      ]
     },
     "execution_count": 47,
     "metadata": {},
     "output_type": "execute_result"
    }
   ],
   "source": [
    "X = np.concatenate((np.ones((5, 1)), ret_dist_summary_annual[\"Volatilidad\"].values.reshape((5, 1))), axis=1)\n",
    "y = ret_dist_summary_annual[\"Rendimiento esperado\"].values\n",
    "X, y"
   ]
  },
  {
   "cell_type": "code",
   "execution_count": 48,
   "metadata": {},
   "outputs": [
    {
     "data": {
      "text/plain": [
       "array([0.19373346, 0.46328729])"
      ]
     },
     "execution_count": 48,
     "metadata": {},
     "output_type": "execute_result"
    }
   ],
   "source": [
    "np.linalg.inv((X.T.dot(X))).dot(X.T).dot(y)"
   ]
  },
  {
   "cell_type": "code",
   "execution_count": 51,
   "metadata": {},
   "outputs": [
    {
     "data": {
      "text/plain": [
       "<matplotlib.legend.Legend at 0x7f6768cc2350>"
      ]
     },
     "execution_count": 51,
     "metadata": {},
     "output_type": "execute_result"
    },
    {
     "data": {
      "image/png": "[encoded data removed]",
      "text/plain": [
       "<Figure size 432x288 with 1 Axes>"
      ]
     },
     "metadata": {
      "needs_background": "light"
     },
     "output_type": "display_data"
    }
   ],
   "source": [
    "# Gráfico rendimiento esperado vs. volatilidad\n",
    "plt.figure(figsize=(6, 4))\n",
    "for i in range(len(ret_dist_summary_annual)):\n",
    "    plt.plot(ret_dist_summary_annual.iloc[i, 1],\n",
    "             ret_dist_summary_annual.iloc[i, 0],\n",
    "             '*',\n",
    "             label=ret_dist_summary_annual.index[i],\n",
    "             ms=10)\n",
    "\n",
    "s = np.linspace(0.25, 0.35)\n",
    "plt.plot(s, beta[0] + beta[1] * s, '--', label=\"Recta ajustada\", lw=4)\n",
    "\n",
    "plt.grid()\n",
    "plt.xlabel(\"Volatilidad $\\sigma$\")\n",
    "plt.ylabel(\"Rendimiento esperado $E[r]$\")\n",
    "plt.legend(loc=\"upper left\", bbox_to_anchor=(1.05, 1))"
   ]
  },
  {
   "cell_type": "code",
   "execution_count": 49,
   "metadata": {},
   "outputs": [
    {
     "data": {
      "text/plain": [
       "array([0.19373223, 0.46329152])"
      ]
     },
     "execution_count": 49,
     "metadata": {},
     "output_type": "execute_result"
    }
   ],
   "source": [
    "beta"
   ]
  },
  {
   "cell_type": "markdown",
   "metadata": {},
   "source": [
    "**¿Qué se puede concluir acerca de la relación entre riesgo (medido con la volatilidad) y el rendimiento esperado (medido con la media)?**\n",
    "\n",
    "Respuestas:\n",
    "- La pendiente de la recta es positiva, lo que confirma la relación positiva entre rendimiento esperado y riesgo.\n",
    "- Si el mercado solo estuviera dado por los cinco activos analizados, la tasa libre de riesgo sería $19.37\\%$.\n",
    "- Por cada unidad de riesgo (volatilidad), el rendimiento aumenta $46.3\\%$."
   ]
  },
  {
   "cell_type": "markdown",
   "metadata": {},
   "source": [
    "## 3. Comentarios finales acerca del uso de datos históricos.\n",
    "\n",
    "### ¡Cuidado!\n",
    "- Es cierto que los patrones que vemos sobre periodos largos de tiempo en diferentes tipos de intrumentos son muy robustos en términos de la relación rendimiento/riesgo (positiva).\n",
    "- Por tanto, esperamos rendimientos más altos en el futuro cuando asumimos cierto riesgo.\n",
    "- ¿Cómo encontramos ese 'rendimiento esperado'? Datos históricos (humanos: tendencia a generalizar)"
   ]
  },
  {
   "cell_type": "markdown",
   "metadata": {},
   "source": [
    "- Entonces, la idea es que si los rendimientos esperados son un p.e. estacionario, el promedio de muchos rendimientos pasados es una buena estimación del rendimiento esperado futuro (Teorema del límite central).\n",
    "- ¿Deberíamos pensarlo dos veces?\n",
    "\n",
    "## SI"
   ]
  },
  {
   "cell_type": "markdown",
   "metadata": {},
   "source": [
    "Problemas:\n",
    "- La muestra de datos en el periodo específico de tiempo puede estar sesgada.\n",
    "- Ventanas de tiempo más grandes reducen especificidad de la muestra y estimados más precisos.\n",
    " - Aún así, datos muy viejos pueden ser no representativos.\n",
    "- Nuevos fondos o estrategias de inversión están a menudo sesgados positivamente:\n",
    " - reporte de resultados en tiempos voluntarios;\n",
    " - las que mueren (no funcionan), no se reportan;"
   ]
  },
  {
   "cell_type": "markdown",
   "metadata": {},
   "source": [
    "# Anuncios parroquiales:\n",
    "## 1. Fin Módulo 1. Revisar que se hayan cumplido los objetivos del módulo (Clase0)\n",
    "## 2. Tarea: revisar archivo \"Tarea3_MidiendoRendimientoRiesgo\" en clase. \n",
    "## 3. Recordar quiz la siguiente clase."
   ]
  },
  {
   "cell_type": "markdown",
   "metadata": {},
   "source": [
    "<script>\n",
    "  $(document).ready(function(){\n",
    "    $('div.prompt').hide();\n",
    "    $('div.back-to-top').hide();\n",
    "    $('nav#menubar').hide();\n",
    "    $('.breadcrumb').hide();\n",
    "    $('.hidden-print').hide();\n",
    "  });\n",
    "</script>\n",
    "\n",
    "<footer id=\"attribution\" style=\"float:right; color:#808080; background:#fff;\">\n",
    "Created with Jupyter by Esteban Jiménez Rodríguez.\n",
    "</footer>"
   ]
  }
 ],
 "metadata": {
  "kernelspec": {
   "display_name": "Python 3",
   "language": "python",
   "name": "python3"
  },
  "language_info": {
   "codemirror_mode": {
    "name": "ipython",
    "version": 3
   },
   "file_extension": ".py",
   "mimetype": "text/x-python",
   "name": "python",
   "nbconvert_exporter": "python",
   "pygments_lexer": "ipython3",
   "version": "3.7.6"
  }
 },
 "nbformat": 4,
 "nbformat_minor": 2
}
